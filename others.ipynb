{
 "cells": [
  {
   "cell_type": "code",
   "execution_count": 19,
   "id": "032936df",
   "metadata": {},
   "outputs": [],
   "source": [
    "import re\n",
    "import json\n",
    "import csv\n",
    "import pandas as pd"
   ]
  },
  {
   "cell_type": "markdown",
   "id": "0f85ccc2",
   "metadata": {},
   "source": [
    "# STAGE 1"
   ]
  },
  {
   "cell_type": "code",
   "execution_count": 2,
   "id": "86042c1b",
   "metadata": {},
   "outputs": [],
   "source": [
    "user_dict={'email': 'password'}"
   ]
  },
  {
   "cell_type": "code",
   "execution_count": 3,
   "id": "0fa1da4a",
   "metadata": {},
   "outputs": [],
   "source": [
    "def email_verify(user_id):\n",
    "    user_id=user_id\n",
    "    user_id_flag =True\n",
    "    pattern ='^[a-z0-9]+[\\._]?[a-z 0-9]+[@]\\w+[.]\\w{2,3}$'\n",
    "    if re.search(pattern, user_id):\n",
    "#         print(\"valid email id\")\n",
    "        user_id_flag = True\n",
    "    else:\n",
    "#         print(\"invalid email id\")\n",
    "        user_id_flag = False\n",
    "    return user_id,user_id_flag\n",
    "\n",
    "        \n",
    "def password_verify(password):\n",
    "    SpecialSym =[':$', '@', '#', '%','!','*','^','&','.']\n",
    "    password_flag = True\n",
    "    if len(password) < 5:\n",
    "        print('length should be at least 5')\n",
    "        password_flag = False\n",
    "        \n",
    "    if len(password) > 16:\n",
    "        print('length should be not be greater than 16')\n",
    "        password_flag = False\n",
    "    if not any(char.isdigit() for char in password):\n",
    "        print('Password should have at least one numeral')\n",
    "        password_flag = False\n",
    "    if not any(char.isupper() for char in password):\n",
    "        print('Password should have at least one uppercase letter')\n",
    "        password_flag = False\n",
    "    if not any(char.islower() for char in password):\n",
    "        print('Password should have at least one lowercase letter')\n",
    "        password_flag = False\n",
    "    \n",
    "    if not any(char in SpecialSym for char in password):\n",
    "        print('Password should have at least one of the symbols $@#')\n",
    "        password_flag = False\n",
    "        \n",
    "        \n",
    "    return password,password_flag\n",
    "\n",
    "def user_password_map(username,user_flag,password,pass_flag,user_list,password_list,user_dict):\n",
    "    if (user_flag == True) & (pass_flag == True):\n",
    "        if username in user_dict.keys():\n",
    "            print(\"username is already exist and password is incorrect\")\n",
    "        else:\n",
    "            user_list.append(username)\n",
    "            password_list.append(password)\n",
    "\n",
    "    elif (user_flag == True) & (pass_flag == False):\n",
    "        if username in user_dict.keys():\n",
    "            print(\"username is already exist and password is incorrect\")\n",
    "        else:\n",
    "            print(\"username and password are incorrect\")\n",
    "    else:\n",
    "        print(\"username and password are incorrect\")\n",
    "        \n",
    "    user_data = dict(zip(user_list, password_list))\n",
    "    \n",
    "    return user_data\n",
    "\n",
    "def user_data_update(user_dict, user_data):\n",
    "    return(user_dict.update(user_data))\n"
   ]
  },
  {
   "cell_type": "code",
   "execution_count": 5,
   "id": "99bb832b",
   "metadata": {},
   "outputs": [
    {
     "name": "stdout",
     "output_type": "stream",
     "text": [
      "enter the email_id : arunakumari@gmail.com\n",
      "enter the password : Daruna@68\n",
      "username : :  arunakumari@gmail.com\n",
      "password : :  Daruna@68\n",
      "---------------user_data-----------------\n",
      "{'arunakumari@gmail.com': 'Daruna@68'}\n",
      "---------------user_dict-----------------\n",
      "{'snehathellam13@gmail.com': 'Thellamsneha13@', 'arunakumari@gmail.com': 'Daruna@68'}\n"
     ]
    }
   ],
   "source": [
    "user_id=input(\"enter the email_id : \")\n",
    "username,user_flag = email_verify(user_id)\n",
    "    \n",
    "password=input(\"enter the password : \")\n",
    "password,pass_flag = password_verify(password)\n",
    "\n",
    "print(\"username : : \",username)\n",
    "print(\"password : : \",password)\n",
    "user_list=[]\n",
    "password_list=[]\n",
    "user_data=user_password_map(username,user_flag,password,pass_flag,user_list,password_list,user_dict)\n",
    "\n",
    "print(\"---------------user_data-----------------\")\n",
    "print(user_data)\n",
    "\n",
    "user_data_update(user_dict, user_data)\n",
    "\n",
    "print(\"---------------user_dict-----------------\")\n",
    "print(user_dict)\n"
   ]
  },
  {
   "cell_type": "markdown",
   "id": "823f8e8a",
   "metadata": {},
   "source": [
    "# STAGE 2"
   ]
  },
  {
   "cell_type": "code",
   "execution_count": 18,
   "id": "b3f24fe3",
   "metadata": {},
   "outputs": [],
   "source": [
    "with open('user_data_details.csv', 'a') as f:\n",
    "    for key in user_dict.keys():\n",
    "        f.write(\"%s,%s\\n\"%(key,user_dict[key]))"
   ]
  },
  {
   "cell_type": "code",
   "execution_count": null,
   "id": "13109ba2",
   "metadata": {},
   "outputs": [],
   "source": []
  },
  {
   "cell_type": "markdown",
   "id": "d8f55bc9",
   "metadata": {},
   "source": [
    "# STAGE 3"
   ]
  },
  {
   "cell_type": "code",
   "execution_count": 30,
   "id": "a5757046",
   "metadata": {},
   "outputs": [],
   "source": [
    "data= pd.read_csv(\"user_data_details.csv\")\n"
   ]
  },
  {
   "cell_type": "code",
   "execution_count": 31,
   "id": "bda1b250",
   "metadata": {},
   "outputs": [
    {
     "data": {
      "text/plain": [
       "pandas.core.frame.DataFrame"
      ]
     },
     "execution_count": 31,
     "metadata": {},
     "output_type": "execute_result"
    }
   ],
   "source": [
    "type(data)"
   ]
  },
  {
   "cell_type": "code",
   "execution_count": 41,
   "id": "12862e9f",
   "metadata": {},
   "outputs": [
    {
     "name": "stdout",
     "output_type": "stream",
     "text": [
      "enter your username for login : : whejftyw@gmail.com\n",
      " please do registration\n"
     ]
    }
   ],
   "source": [
    "user_input=input(\"enter your username for login : : \")\n",
    "check_data=data['email'].tolist()\n",
    "if user_input in check_data:\n",
    "    user_id=input(\"enter the email_id : \")\n",
    "    username,user_flag_validate = email_verify(user_id) \n",
    "    password=input(\"enter the password : \")\n",
    "    password,pass_flag_validate = password_verify(password)\n",
    "    if (user_flag_validate == True) & (pass_flag_validate == True):\n",
    "        print(\"logged in succussfully\")\n",
    "    else:\n",
    "        print(\"invalid credentials\")\n",
    "else:\n",
    "    print(\" please do registration\")\n",
    "\n",
    "    "
   ]
  },
  {
   "cell_type": "code",
   "execution_count": null,
   "id": "170acc91",
   "metadata": {},
   "outputs": [],
   "source": []
  },
  {
   "cell_type": "code",
   "execution_count": null,
   "id": "c400da0c",
   "metadata": {},
   "outputs": [],
   "source": []
  }
 ],
 "metadata": {
  "kernelspec": {
   "display_name": "Python 3 (ipykernel)",
   "language": "python",
   "name": "python3"
  },
  "language_info": {
   "codemirror_mode": {
    "name": "ipython",
    "version": 3
   },
   "file_extension": ".py",
   "mimetype": "text/x-python",
   "name": "python",
   "nbconvert_exporter": "python",
   "pygments_lexer": "ipython3",
   "version": "3.8.5"
  }
 },
 "nbformat": 4,
 "nbformat_minor": 5
}
