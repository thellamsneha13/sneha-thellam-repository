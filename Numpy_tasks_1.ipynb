{
  "cells": [
    {
      "cell_type": "markdown",
      "metadata": {
        "id": "view-in-github",
        "colab_type": "text"
      },
      "source": [
        "<a href=\"https://colab.research.google.com/github/thellamsneha13/sneha-thellam-repository/blob/main/Numpy_tasks_1.ipynb\" target=\"_parent\"><img src=\"https://colab.research.google.com/assets/colab-badge.svg\" alt=\"Open In Colab\"/></a>"
      ]
    },
    {
      "cell_type": "markdown",
      "metadata": {
        "id": "wOMTyY5vf-oW"
      },
      "source": [
        "# Numpy\n",
        "\n"
      ]
    },
    {
      "cell_type": "markdown",
      "metadata": {
        "id": "TgQJH5hcf-oh"
      },
      "source": [
        "#### 1. Import the numpy package under the name `np` (★☆☆) \n",
        "(**hint**: import … as …)"
      ]
    },
    {
      "cell_type": "code",
      "execution_count": 1,
      "metadata": {
        "collapsed": true,
        "id": "XO_0E6R-f-ok"
      },
      "outputs": [],
      "source": [
        "import numpy as np"
      ]
    },
    {
      "cell_type": "markdown",
      "metadata": {
        "id": "8aVvefALf-om"
      },
      "source": [
        "#### 2. Print the numpy version and the configuration (★☆☆) \n",
        "(**hint**: np.\\_\\_version\\_\\_, np.show\\_config)"
      ]
    },
    {
      "cell_type": "code",
      "execution_count": 2,
      "metadata": {
        "id": "EZAkW01Of-oo",
        "outputId": "6a4dce25-1305-4594-fbb3-be3bea4b0eb9",
        "colab": {
          "base_uri": "https://localhost:8080/"
        }
      },
      "outputs": [
        {
          "output_type": "stream",
          "name": "stdout",
          "text": [
            "1.21.5\n",
            "blas_mkl_info:\n",
            "  NOT AVAILABLE\n",
            "blis_info:\n",
            "  NOT AVAILABLE\n",
            "openblas_info:\n",
            "    libraries = ['openblas', 'openblas']\n",
            "    library_dirs = ['/usr/local/lib']\n",
            "    language = c\n",
            "    define_macros = [('HAVE_CBLAS', None)]\n",
            "    runtime_library_dirs = ['/usr/local/lib']\n",
            "blas_opt_info:\n",
            "    libraries = ['openblas', 'openblas']\n",
            "    library_dirs = ['/usr/local/lib']\n",
            "    language = c\n",
            "    define_macros = [('HAVE_CBLAS', None)]\n",
            "    runtime_library_dirs = ['/usr/local/lib']\n",
            "lapack_mkl_info:\n",
            "  NOT AVAILABLE\n",
            "openblas_lapack_info:\n",
            "    libraries = ['openblas', 'openblas']\n",
            "    library_dirs = ['/usr/local/lib']\n",
            "    language = c\n",
            "    define_macros = [('HAVE_CBLAS', None)]\n",
            "    runtime_library_dirs = ['/usr/local/lib']\n",
            "lapack_opt_info:\n",
            "    libraries = ['openblas', 'openblas']\n",
            "    library_dirs = ['/usr/local/lib']\n",
            "    language = c\n",
            "    define_macros = [('HAVE_CBLAS', None)]\n",
            "    runtime_library_dirs = ['/usr/local/lib']\n",
            "Supported SIMD extensions in this NumPy install:\n",
            "    baseline = SSE,SSE2,SSE3\n",
            "    found = SSSE3,SSE41,POPCNT,SSE42,AVX,F16C,FMA3,AVX2\n",
            "    not found = AVX512F,AVX512CD,AVX512_KNL,AVX512_KNM,AVX512_SKX,AVX512_CLX,AVX512_CNL,AVX512_ICL\n",
            "None\n"
          ]
        }
      ],
      "source": [
        "print(np.__version__)\n",
        "print(np.show_config())"
      ]
    },
    {
      "cell_type": "markdown",
      "metadata": {
        "id": "ZwirJzojf-op"
      },
      "source": [
        "#### 3. Create a null vector of size 10 (★☆☆) \n",
        "(**hint**: np.zeros)"
      ]
    },
    {
      "cell_type": "code",
      "execution_count": 3,
      "metadata": {
        "id": "po9JuiEdf-os",
        "outputId": "9d702552-316b-472d-9ab7-21c27418d9f9",
        "colab": {
          "base_uri": "https://localhost:8080/"
        }
      },
      "outputs": [
        {
          "output_type": "stream",
          "name": "stdout",
          "text": [
            "[0. 0. 0. 0. 0. 0. 0. 0. 0. 0.]\n"
          ]
        }
      ],
      "source": [
        "print(np.zeros(10))"
      ]
    },
    {
      "cell_type": "markdown",
      "metadata": {
        "id": "DPib2RTLf-ov"
      },
      "source": [
        "#### 4.  How to find the memory size of any array (★☆☆) \n",
        "(**hint**: size, itemsize)"
      ]
    },
    {
      "cell_type": "code",
      "execution_count": 4,
      "metadata": {
        "id": "4eA515UVf-ox",
        "colab": {
          "base_uri": "https://localhost:8080/"
        },
        "outputId": "8d2176da-a19b-441e-aa58-4d2603122b16"
      },
      "outputs": [
        {
          "output_type": "stream",
          "name": "stdout",
          "text": [
            "480 bytes \n"
          ]
        }
      ],
      "source": [
        "a = np.ones((5,12))\n",
        "\n",
        "print(\"%d bytes \" % (a.size * a.itemsize))"
      ]
    },
    {
      "cell_type": "markdown",
      "metadata": {
        "id": "YLhgiRAff-o0"
      },
      "source": [
        "#### 5.  How to get the documentation of the numpy add function from the command line? (★☆☆) \n",
        "(**hint**: np.info)"
      ]
    },
    {
      "cell_type": "code",
      "execution_count": 6,
      "metadata": {
        "collapsed": true,
        "id": "b5s7Nxikf-o1",
        "colab": {
          "base_uri": "https://localhost:8080/",
          "height": 130
        },
        "outputId": "080ec87e-7c90-4b83-b2e5-8e2fa613b098"
      },
      "outputs": [
        {
          "output_type": "error",
          "ename": "SyntaxError",
          "evalue": "ignored",
          "traceback": [
            "\u001b[0;36m  File \u001b[0;32m\"<ipython-input-6-792371e4cfa0>\"\u001b[0;36m, line \u001b[0;32m2\u001b[0m\n\u001b[0;31m    http://numpy.info(numpy.add)\u001b[0m\n\u001b[0m          ^\u001b[0m\n\u001b[0;31mSyntaxError\u001b[0m\u001b[0;31m:\u001b[0m invalid syntax\n"
          ]
        }
      ],
      "source": [
        " import numpy; \n",
        " http://numpy.info(numpy.add)"
      ]
    },
    {
      "cell_type": "markdown",
      "metadata": {
        "id": "HquQsfvif-o3"
      },
      "source": [
        "#### 6.  Create a null vector of size 10 but the fifth value which is 1 (★☆☆) \n",
        "(**hint**: array\\[4\\])"
      ]
    },
    {
      "cell_type": "code",
      "execution_count": 7,
      "metadata": {
        "id": "mnm-rYPef-o4",
        "colab": {
          "base_uri": "https://localhost:8080/"
        },
        "outputId": "ac86f1f1-6cb1-41e6-93a9-ff4dc90be53e"
      },
      "outputs": [
        {
          "output_type": "execute_result",
          "data": {
            "text/plain": [
              "array([0., 0., 0., 0., 1., 0., 0., 0., 0., 0.])"
            ]
          },
          "metadata": {},
          "execution_count": 7
        }
      ],
      "source": [
        "b=np.zeros(10)\n",
        "b[4]=1\n",
        "b"
      ]
    },
    {
      "cell_type": "markdown",
      "metadata": {
        "id": "iiProT1ff-o6"
      },
      "source": [
        "#### 7.  Create a vector with values ranging from 10 to 49 (★☆☆) \n",
        "(**hint**: np.arange)"
      ]
    },
    {
      "cell_type": "code",
      "execution_count": 8,
      "metadata": {
        "id": "FFCoX0Lwf-o7",
        "colab": {
          "base_uri": "https://localhost:8080/"
        },
        "outputId": "b8c69c01-376c-40a9-9124-4db772f40eb7"
      },
      "outputs": [
        {
          "output_type": "stream",
          "name": "stdout",
          "text": [
            "[10 11 12 13 14 15 16 17 18 19 20 21 22 23 24 25 26 27 28 29 30 31 32 33\n",
            " 34 35 36 37 38 39 40 41 42 43 44 45 46 47 48 49]\n"
          ]
        }
      ],
      "source": [
        "print(np.arange(10,50))"
      ]
    },
    {
      "cell_type": "markdown",
      "metadata": {
        "id": "QzHLE6gEf-o8"
      },
      "source": [
        "#### 8.  Reverse a vector (first element becomes last) (★☆☆) \n",
        "(**hint**: array\\[::-1\\])"
      ]
    },
    {
      "cell_type": "code",
      "execution_count": 10,
      "metadata": {
        "id": "D-nBUkPhf-pH",
        "colab": {
          "base_uri": "https://localhost:8080/"
        },
        "outputId": "23cf4ef6-09a3-4e86-bf5b-a559ab603e6c"
      },
      "outputs": [
        {
          "output_type": "stream",
          "name": "stdout",
          "text": [
            "[29 28 27 26 25 24 23 22 21 20 19 18 17 16 15 14 13 12 11 10  9  8  7  6\n",
            "  5  4  3  2  1  0]\n"
          ]
        }
      ],
      "source": [
        "a8=np.arange(30)\n",
        "print(a8[::-1])"
      ]
    },
    {
      "cell_type": "markdown",
      "metadata": {
        "id": "7tWN0qoAf-pJ"
      },
      "source": [
        "#### 9.  Create a 3x3 matrix with values ranging from 0 to 8 (★☆☆) \n",
        "(**hint**: reshape)"
      ]
    },
    {
      "cell_type": "code",
      "execution_count": 12,
      "metadata": {
        "id": "z4j0X2NDf-pK",
        "colab": {
          "base_uri": "https://localhost:8080/"
        },
        "outputId": "e242d762-15fb-40f0-eb60-7485d063520f"
      },
      "outputs": [
        {
          "output_type": "execute_result",
          "data": {
            "text/plain": [
              "array([[0, 1, 2],\n",
              "       [3, 4, 5],\n",
              "       [6, 7, 8]])"
            ]
          },
          "metadata": {},
          "execution_count": 12
        }
      ],
      "source": [
        "a9=np.arange(9).reshape(3,3)\n",
        "a9"
      ]
    },
    {
      "cell_type": "markdown",
      "metadata": {
        "id": "olEDgvWTf-pL"
      },
      "source": [
        "#### 10. Find indices of non-zero elements from \\[1,2,0,0,4,0\\] (★☆☆) \n",
        "(**hint**: np.nonzero)"
      ]
    },
    {
      "cell_type": "code",
      "execution_count": 13,
      "metadata": {
        "id": "knmsa464f-pM",
        "colab": {
          "base_uri": "https://localhost:8080/"
        },
        "outputId": "28be1def-ddb6-4e9d-d940-4014a957bce7"
      },
      "outputs": [
        {
          "output_type": "stream",
          "name": "stdout",
          "text": [
            "(array([0, 1, 4]),)\n"
          ]
        }
      ],
      "source": [
        "a10=[1,2,0,0,4,0]\n",
        "print(np.nonzero((a10)))"
      ]
    },
    {
      "cell_type": "markdown",
      "metadata": {
        "id": "q5zeMuNCf-pO"
      },
      "source": [
        "#### 11. Create a 3x3 identity matrix (★☆☆) \n",
        "(**hint**: np.eye)"
      ]
    },
    {
      "cell_type": "code",
      "execution_count": 14,
      "metadata": {
        "id": "B11cJ_Yhf-pO",
        "colab": {
          "base_uri": "https://localhost:8080/"
        },
        "outputId": "a3e2c5ff-8d3c-48f4-c8bc-f9742ee350da"
      },
      "outputs": [
        {
          "output_type": "stream",
          "name": "stdout",
          "text": [
            "[[1. 0. 0.]\n",
            " [0. 1. 0.]\n",
            " [0. 0. 1.]]\n"
          ]
        }
      ],
      "source": [
        "print(np.eye(3))"
      ]
    },
    {
      "cell_type": "markdown",
      "metadata": {
        "id": "Pxo5o_dlf-pP"
      },
      "source": [
        "#### 12. Create a 3x3x3 array with random values (★☆☆) \n",
        "(**hint**: np.random.random)"
      ]
    },
    {
      "cell_type": "code",
      "execution_count": 17,
      "metadata": {
        "collapsed": true,
        "id": "gZ3asSO_f-pQ",
        "colab": {
          "base_uri": "https://localhost:8080/"
        },
        "outputId": "a51fae90-bad6-4d3f-8038-d9dd1d697170"
      },
      "outputs": [
        {
          "output_type": "execute_result",
          "data": {
            "text/plain": [
              "array([[[0.76769129, 0.62582474, 0.20807344],\n",
              "        [0.49432549, 0.6368233 , 0.85033933],\n",
              "        [0.39701907, 0.23526143, 0.24461838]],\n",
              "\n",
              "       [[0.18543072, 0.70266401, 0.54556739],\n",
              "        [0.40068667, 0.95973602, 0.43761613],\n",
              "        [0.6259923 , 0.47220117, 0.66614296]],\n",
              "\n",
              "       [[0.63509677, 0.48029714, 0.6365307 ],\n",
              "        [0.40308346, 0.34535491, 0.49888313],\n",
              "        [0.18351811, 0.93365371, 0.80724899]]])"
            ]
          },
          "metadata": {},
          "execution_count": 17
        }
      ],
      "source": [
        "a12=np.random.random((3,3,3))\n",
        "a12"
      ]
    },
    {
      "cell_type": "markdown",
      "metadata": {
        "id": "DKKZckwPf-pR"
      },
      "source": [
        "#### 13. Create a 10x10 array with random values and find the minimum and maximum values (★☆☆) \n",
        "(**hint**: min, max)"
      ]
    },
    {
      "cell_type": "code",
      "execution_count": 18,
      "metadata": {
        "id": "4T4tLZz1f-pS",
        "colab": {
          "base_uri": "https://localhost:8080/"
        },
        "outputId": "dc716e15-b454-49fd-ed47-eaa056545a84"
      },
      "outputs": [
        {
          "output_type": "stream",
          "name": "stdout",
          "text": [
            "the minimum value : :  0.013535850319055132\n",
            "the maximum value : :  0.9923548221694493\n"
          ]
        }
      ],
      "source": [
        "a13=np.random.random((10,10))\n",
        "print(\"the minimum value : : \",a13.min())\n",
        "print(\"the maximum value : : \",a13.max())"
      ]
    },
    {
      "cell_type": "markdown",
      "metadata": {
        "id": "9in-x5TXf-pT"
      },
      "source": [
        "#### 14. Create a random vector of size 30 and find the mean value (★☆☆) \n",
        "(**hint**: mean)"
      ]
    },
    {
      "cell_type": "code",
      "execution_count": 19,
      "metadata": {
        "id": "CEEJgAd_f-pV",
        "colab": {
          "base_uri": "https://localhost:8080/"
        },
        "outputId": "06b0faa8-1ad2-4b96-9e50-0958aa47658d"
      },
      "outputs": [
        {
          "output_type": "stream",
          "name": "stdout",
          "text": [
            "29.0\n"
          ]
        }
      ],
      "source": [
        "a14=np.random.randint(30)\n",
        "print(np.mean(a14))"
      ]
    },
    {
      "cell_type": "markdown",
      "metadata": {
        "id": "cqMYS5ilf-pV"
      },
      "source": [
        "#### 15. Create a 2d array with 1 on the border and 0 inside (★☆☆) \n",
        "(**hint**: array\\[1:-1, 1:-1\\])"
      ]
    },
    {
      "cell_type": "code",
      "execution_count": 23,
      "metadata": {
        "id": "srWEupPCf-pW",
        "colab": {
          "base_uri": "https://localhost:8080/"
        },
        "outputId": "6d4ad743-5188-4e8c-f3f2-0a6b4e967d2f"
      },
      "outputs": [
        {
          "output_type": "stream",
          "name": "stdout",
          "text": [
            "[[1. 1. 1. 1. 1. 1. 1. 1. 1. 1.]\n",
            " [1. 0. 0. 0. 0. 0. 0. 0. 0. 1.]\n",
            " [1. 0. 0. 0. 0. 0. 0. 0. 0. 1.]\n",
            " [1. 0. 0. 0. 0. 0. 0. 0. 0. 1.]\n",
            " [1. 0. 0. 0. 0. 0. 0. 0. 0. 1.]\n",
            " [1. 0. 0. 0. 0. 0. 0. 0. 0. 1.]\n",
            " [1. 0. 0. 0. 0. 0. 0. 0. 0. 1.]\n",
            " [1. 0. 0. 0. 0. 0. 0. 0. 0. 1.]\n",
            " [1. 0. 0. 0. 0. 0. 0. 0. 0. 1.]\n",
            " [1. 1. 1. 1. 1. 1. 1. 1. 1. 1.]]\n"
          ]
        }
      ],
      "source": [
        "a15= np.ones((10,10))\n",
        "a15[1:-1,1:-1] = 0\n",
        "print(a15)"
      ]
    },
    {
      "cell_type": "markdown",
      "metadata": {
        "id": "7ckkZio8f-pe"
      },
      "source": [
        "#### 16. How to add a border (filled with 0's) around an existing array? (★☆☆) \n",
        "(**hint**: np.pad)"
      ]
    },
    {
      "cell_type": "code",
      "execution_count": 30,
      "metadata": {
        "id": "hyBWKkJ9f-pf",
        "colab": {
          "base_uri": "https://localhost:8080/"
        },
        "outputId": "29e36ae1-d0ac-43d3-94f1-649be8c5a00f"
      },
      "outputs": [
        {
          "output_type": "stream",
          "name": "stdout",
          "text": [
            "[[0 0 0 0 0]\n",
            " [0 1 2 3 0]\n",
            " [0 4 5 6 0]\n",
            " [0 7 8 9 0]\n",
            " [0 0 0 0 0]]\n"
          ]
        }
      ],
      "source": [
        "a16 = np.arange(1,10).reshape(3,3)\n",
        "a16 = np.pad(a16, pad_width=1, mode='constant', constant_values=0)\n",
        "print(a16)"
      ]
    },
    {
      "cell_type": "markdown",
      "metadata": {
        "id": "_Q2rZTEAf-pg"
      },
      "source": [
        "#### 17. What is the result of the following expression? (★☆☆) \n",
        "(**hint**: NaN = not a number, inf = infinity)"
      ]
    },
    {
      "cell_type": "markdown",
      "metadata": {
        "id": "ONEEx1XZf-pg"
      },
      "source": [
        "```python\n",
        "0 * np.nan\n",
        "np.nan == np.nan\n",
        "np.inf > np.nan\n",
        "np.nan - np.nan\n",
        "0.3 == 3 * 0.1\n",
        "```"
      ]
    },
    {
      "cell_type": "code",
      "execution_count": 31,
      "metadata": {
        "id": "Wh_hnMPVf-pi",
        "colab": {
          "base_uri": "https://localhost:8080/"
        },
        "outputId": "02357df2-b438-4b09-aec2-eb309c758de5"
      },
      "outputs": [
        {
          "output_type": "stream",
          "name": "stdout",
          "text": [
            "nan\n",
            "False\n",
            "False\n",
            "nan\n",
            "False\n"
          ]
        }
      ],
      "source": [
        "print(0 * np.nan)\n",
        "print(np.nan == np.nan)\n",
        "print(np.inf > np.nan)\n",
        "print(np.nan - np.nan)\n",
        "print(0.3 == 3 * 0.1)"
      ]
    },
    {
      "cell_type": "markdown",
      "metadata": {
        "id": "88-JpNwff-pj"
      },
      "source": [
        "#### 18. Create a 5x5 matrix with values 1,2,3,4 just below the diagonal (★☆☆) \n",
        "(**hint**: np.diag)"
      ]
    },
    {
      "cell_type": "code",
      "execution_count": 32,
      "metadata": {
        "id": "N_zDvwTsf-pk",
        "colab": {
          "base_uri": "https://localhost:8080/"
        },
        "outputId": "7fa0e096-1878-4601-d656-7db0ad920e1d"
      },
      "outputs": [
        {
          "output_type": "stream",
          "name": "stdout",
          "text": [
            "[[0 0 0 0 0]\n",
            " [1 0 0 0 0]\n",
            " [0 2 0 0 0]\n",
            " [0 0 3 0 0]\n",
            " [0 0 0 4 0]]\n"
          ]
        }
      ],
      "source": [
        "a18= np.diag(1+np.arange(4),k=-1)\n",
        "print(a18)"
      ]
    },
    {
      "cell_type": "markdown",
      "metadata": {
        "id": "cMVnCbshf-pk"
      },
      "source": [
        "#### 19. Create a 8x8 matrix and fill it with a checkerboard pattern (★☆☆) \n",
        "(**hint**: array\\[::2\\])"
      ]
    },
    {
      "cell_type": "code",
      "execution_count": 33,
      "metadata": {
        "id": "d7PF8Y0Bf-pl",
        "colab": {
          "base_uri": "https://localhost:8080/"
        },
        "outputId": "bd15b896-1ff1-49fb-d70d-850b59967f8f"
      },
      "outputs": [
        {
          "output_type": "stream",
          "name": "stdout",
          "text": [
            "[[0 1 0 1 0 1 0 1]\n",
            " [1 0 1 0 1 0 1 0]\n",
            " [0 1 0 1 0 1 0 1]\n",
            " [1 0 1 0 1 0 1 0]\n",
            " [0 1 0 1 0 1 0 1]\n",
            " [1 0 1 0 1 0 1 0]\n",
            " [0 1 0 1 0 1 0 1]\n",
            " [1 0 1 0 1 0 1 0]]\n"
          ]
        }
      ],
      "source": [
        "a19= np.zeros((8,8),dtype=int)\n",
        "a19[1::2,::2] = 1\n",
        "a19[::2,1::2] = 1\n",
        "print(a19)"
      ]
    },
    {
      "cell_type": "markdown",
      "metadata": {
        "id": "F6Vlmrtbf-pl"
      },
      "source": [
        "#### 20. Consider a (6,7,8) shape array, what is the index (x,y,z) of the 100th element? \n",
        "(**hint**: np.unravel_index)"
      ]
    },
    {
      "cell_type": "code",
      "execution_count": 34,
      "metadata": {
        "id": "f0PdxU7Uf-pm",
        "colab": {
          "base_uri": "https://localhost:8080/"
        },
        "outputId": "81dd164b-037d-405d-99f5-473bc74a919a"
      },
      "outputs": [
        {
          "output_type": "stream",
          "name": "stdout",
          "text": [
            "(1, 5, 4)\n"
          ]
        }
      ],
      "source": [
        "print(np.unravel_index(100,(6,7,8)))"
      ]
    },
    {
      "cell_type": "markdown",
      "metadata": {
        "id": "Bw4TA5DOf-po"
      },
      "source": [
        "#### 21. Create a checkerboard 8x8 matrix using the tile function (★☆☆) \n",
        "(**hint**: np.tile)"
      ]
    },
    {
      "cell_type": "code",
      "execution_count": 35,
      "metadata": {
        "id": "LyoKVDRdf-pp",
        "colab": {
          "base_uri": "https://localhost:8080/"
        },
        "outputId": "85a74bf0-ccca-4c98-c11a-6d51064e2d10"
      },
      "outputs": [
        {
          "output_type": "stream",
          "name": "stdout",
          "text": [
            "[[0 1 0 1 0 1 0 1]\n",
            " [1 0 1 0 1 0 1 0]\n",
            " [0 1 0 1 0 1 0 1]\n",
            " [1 0 1 0 1 0 1 0]\n",
            " [0 1 0 1 0 1 0 1]\n",
            " [1 0 1 0 1 0 1 0]\n",
            " [0 1 0 1 0 1 0 1]\n",
            " [1 0 1 0 1 0 1 0]]\n"
          ]
        }
      ],
      "source": [
        "a21= np.tile( np.array([[0,1],[1,0]]), (4,4))\n",
        "\n",
        "print(a21)"
      ]
    },
    {
      "cell_type": "markdown",
      "metadata": {
        "id": "JwguN0tnf-pp"
      },
      "source": [
        "#### 22. Normalize a 5x5 random matrix (★☆☆) \n",
        "(**hint**: (x - min) / (max - min))"
      ]
    },
    {
      "cell_type": "code",
      "execution_count": 36,
      "metadata": {
        "id": "e12kYLzwf-pq",
        "colab": {
          "base_uri": "https://localhost:8080/"
        },
        "outputId": "df43c166-673f-48a7-9ac8-45358846f311"
      },
      "outputs": [
        {
          "output_type": "stream",
          "name": "stdout",
          "text": [
            "[[0.64201949 0.23223719 0.5520011  0.33700552 0.62194053]\n",
            " [0.18217683 0.9908737  0.3325883  0.71893729 0.14284471]\n",
            " [0.97563534 0.31637172 0.25777277 0.11236905 0.02665105]\n",
            " [0.986946   0.05867768 0.91237224 0.77088133 0.15948687]\n",
            " [0.         1.         0.07939655 0.04828956 0.09938242]]\n"
          ]
        }
      ],
      "source": [
        "a22 = np.random.random((5,5))\n",
        "a22max, a22min = a22.max(), a22.min()\n",
        "a22 = (a22- a22min)/(a22max - a22min)\n",
        "print(a22)"
      ]
    },
    {
      "cell_type": "markdown",
      "metadata": {
        "id": "D8gD8gLVf-pq"
      },
      "source": [
        "#### 23. Create a custom dtype that describes a color as four unsigned bytes (RGBA) (★☆☆) \n",
        "(**hint**: np.dtype)"
      ]
    },
    {
      "cell_type": "code",
      "execution_count": 145,
      "metadata": {
        "collapsed": true,
        "id": "02-cyCdDf-pr",
        "colab": {
          "base_uri": "https://localhost:8080/"
        },
        "outputId": "72dd0faf-ed1d-4ab1-c6f8-cfebfef8a831"
      },
      "outputs": [
        {
          "output_type": "stream",
          "name": "stderr",
          "text": [
            "/usr/local/lib/python3.7/dist-packages/ipykernel_launcher.py:4: FutureWarning: Passing (type, 1) or '1type' as a synonym of type is deprecated; in a future version of numpy, it will be understood as (type, (1,)) / '(1,)type'.\n",
            "  after removing the cwd from sys.path.\n"
          ]
        }
      ],
      "source": [
        "color = np.dtype([(\"r\", np.ubyte, 1),\n",
        "                  (\"g\", np.ubyte, 1),\n",
        "                  (\"b\", np.ubyte, 1),\n",
        "                  (\"a\", np.ubyte, 1)])"
      ]
    },
    {
      "cell_type": "markdown",
      "metadata": {
        "id": "WGTivNa7f-pr"
      },
      "source": [
        "#### 24. Multiply a 5x3 matrix by a 3x2 matrix (real matrix product) (★☆☆) \n",
        "(**hint**: np.dot | @)"
      ]
    },
    {
      "cell_type": "code",
      "execution_count": 40,
      "metadata": {
        "id": "J3EA_lUwf-ps",
        "colab": {
          "base_uri": "https://localhost:8080/"
        },
        "outputId": "2a99358d-1327-4888-87c9-4e9b5bbcd2ac"
      },
      "outputs": [
        {
          "output_type": "stream",
          "name": "stdout",
          "text": [
            "[[3. 3.]\n",
            " [3. 3.]\n",
            " [3. 3.]\n",
            " [3. 3.]\n",
            " [3. 3.]]\n",
            "[[3. 3.]\n",
            " [3. 3.]\n",
            " [3. 3.]\n",
            " [3. 3.]\n",
            " [3. 3.]]\n"
          ]
        }
      ],
      "source": [
        "a24= np.dot(np.ones((5,3)), np.ones((3,2)))\n",
        "print(a24)\n",
        "\n",
        "a24_1 = np.ones((5,3)) @ np.ones((3,2))  # Alternative solution, in Python 3.5 and above\n",
        "print(a24_1)"
      ]
    },
    {
      "cell_type": "markdown",
      "metadata": {
        "id": "kvfAxmCzf-ps"
      },
      "source": [
        "#### 25. Given a 1D array, negate all elements which are between 3 and 8, in place. (★☆☆) \n",
        "(**hint**: >, <=)"
      ]
    },
    {
      "cell_type": "code",
      "execution_count": 41,
      "metadata": {
        "id": "dVrsgXVrf-ps",
        "colab": {
          "base_uri": "https://localhost:8080/"
        },
        "outputId": "d0b1d366-95e1-4264-92a9-b7664599007c"
      },
      "outputs": [
        {
          "output_type": "stream",
          "name": "stdout",
          "text": [
            "[ 0  1  2  3 -4 -5 -6 -7 -8  9 10]\n"
          ]
        }
      ],
      "source": [
        "a25= np.arange(11)\n",
        "a25[(3 < a25) & (a25<= 8)] *= -1\n",
        "print(a25)"
      ]
    },
    {
      "cell_type": "markdown",
      "metadata": {
        "id": "FC7wI0JPf-ps"
      },
      "source": [
        "#### 26. What is the output of the following script? (★☆☆) \n",
        "(**hint**: np.sum)"
      ]
    },
    {
      "cell_type": "markdown",
      "metadata": {
        "id": "Ghm7zKv3f-pt"
      },
      "source": [
        "```python\n",
        "# Author: Jake VanderPlas\n",
        "\n",
        "print(sum(range(5),-1))\n",
        "from numpy import *\n",
        "print(sum(range(5),-1))\n",
        "```"
      ]
    },
    {
      "cell_type": "code",
      "execution_count": 43,
      "metadata": {
        "id": "qIHjqQAPf-pu",
        "colab": {
          "base_uri": "https://localhost:8080/"
        },
        "outputId": "88ba3461-623f-421d-9b85-a276eb555b17"
      },
      "outputs": [
        {
          "output_type": "stream",
          "name": "stdout",
          "text": [
            "10\n",
            "10\n"
          ]
        }
      ],
      "source": [
        "print(sum(range(5),-1))\n",
        "from numpy import *\n",
        "print(sum(range(5),-1))"
      ]
    },
    {
      "cell_type": "markdown",
      "metadata": {
        "id": "M-pj_18Yf-pu"
      },
      "source": [
        "#### 27. Consider an integer vector Z, which of these expressions are legal? (★☆☆)"
      ]
    },
    {
      "cell_type": "markdown",
      "metadata": {
        "id": "TYJHDLauf-pu"
      },
      "source": [
        "```python\n",
        "Z**Z\n",
        "2 << Z >> 2\n",
        "Z <- Z\n",
        "1j*Z\n",
        "Z/1/1\n",
        "Z<Z>Z\n",
        "```"
      ]
    },
    {
      "cell_type": "code",
      "source": [
        "z=np.arange(10)\n",
        "print(\"\\nz**z : :\\n\",z**z)\n",
        "print(\"\\n2 << z >> 2 : :\\n\",2 << z >> 2)\n",
        "print(\"\\nz <- z : :\",z <- z)\n",
        "print(\"\\n1j*z : :\\n\",1j*z)\n",
        "print(\"\\nz/1/1 : :\\n\",z/1/1)\n",
        "print(\"\\nz<z<z : :\\n\",z<z<z)"
      ],
      "metadata": {
        "colab": {
          "base_uri": "https://localhost:8080/",
          "height": 460
        },
        "id": "bS5mXJTtRAsP",
        "outputId": "8e70d7dd-6a1c-4b9c-cb4a-042436a8fad1"
      },
      "execution_count": 197,
      "outputs": [
        {
          "output_type": "stream",
          "name": "stdout",
          "text": [
            "\n",
            "z**z : :\n",
            " [        1         1         4        27       256      3125     46656\n",
            "    823543  16777216 387420489]\n",
            "\n",
            "2 << z >> 2 : :\n",
            " [  0   1   2   4   8  16  32  64 128 256]\n",
            "\n",
            "z <- z : : [False False False False False False False False False False]\n",
            "\n",
            "1j*z : :\n",
            " [0.+0.j 0.+1.j 0.+2.j 0.+3.j 0.+4.j 0.+5.j 0.+6.j 0.+7.j 0.+8.j 0.+9.j]\n",
            "\n",
            "z/1/1 : :\n",
            " [0. 1. 2. 3. 4. 5. 6. 7. 8. 9.]\n"
          ]
        },
        {
          "output_type": "error",
          "ename": "ValueError",
          "evalue": "ignored",
          "traceback": [
            "\u001b[0;31m---------------------------------------------------------------------------\u001b[0m",
            "\u001b[0;31mValueError\u001b[0m                                Traceback (most recent call last)",
            "\u001b[0;32m<ipython-input-197-28d712a5733f>\u001b[0m in \u001b[0;36m<module>\u001b[0;34m()\u001b[0m\n\u001b[1;32m      5\u001b[0m \u001b[0mprint\u001b[0m\u001b[0;34m(\u001b[0m\u001b[0;34m\"\\n1j*z : :\\n\"\u001b[0m\u001b[0;34m,\u001b[0m\u001b[0;36m1j\u001b[0m\u001b[0;34m*\u001b[0m\u001b[0mz\u001b[0m\u001b[0;34m)\u001b[0m\u001b[0;34m\u001b[0m\u001b[0;34m\u001b[0m\u001b[0m\n\u001b[1;32m      6\u001b[0m \u001b[0mprint\u001b[0m\u001b[0;34m(\u001b[0m\u001b[0;34m\"\\nz/1/1 : :\\n\"\u001b[0m\u001b[0;34m,\u001b[0m\u001b[0mz\u001b[0m\u001b[0;34m/\u001b[0m\u001b[0;36m1\u001b[0m\u001b[0;34m/\u001b[0m\u001b[0;36m1\u001b[0m\u001b[0;34m)\u001b[0m\u001b[0;34m\u001b[0m\u001b[0;34m\u001b[0m\u001b[0m\n\u001b[0;32m----> 7\u001b[0;31m \u001b[0mprint\u001b[0m\u001b[0;34m(\u001b[0m\u001b[0;34m\"\\nz<z<z : :\\n\"\u001b[0m\u001b[0;34m,\u001b[0m\u001b[0mz\u001b[0m\u001b[0;34m<\u001b[0m\u001b[0mz\u001b[0m\u001b[0;34m<\u001b[0m\u001b[0mz\u001b[0m\u001b[0;34m)\u001b[0m\u001b[0;34m\u001b[0m\u001b[0;34m\u001b[0m\u001b[0m\n\u001b[0m",
            "\u001b[0;31mValueError\u001b[0m: The truth value of an array with more than one element is ambiguous. Use a.any() or a.all()"
          ]
        }
      ]
    },
    {
      "cell_type": "markdown",
      "metadata": {
        "id": "nFGrXZ9lf-pv"
      },
      "source": [
        "#### 28. What are the result of the following expressions?"
      ]
    },
    {
      "cell_type": "markdown",
      "metadata": {
        "id": "8t5tDgiKf-pw"
      },
      "source": [
        "```python\n",
        "np.array(0) / np.array(0)\n",
        "np.array(0) // np.array(0)\n",
        "np.array([np.nan]).astype(int).astype(float)\n",
        "```"
      ]
    },
    {
      "cell_type": "code",
      "execution_count": 46,
      "metadata": {
        "id": "o1hZYZOtf-pw",
        "colab": {
          "base_uri": "https://localhost:8080/"
        },
        "outputId": "665fa104-f036-4e7d-da86-d26d1f9db58c"
      },
      "outputs": [
        {
          "output_type": "stream",
          "name": "stdout",
          "text": [
            "nan\n",
            "0\n",
            "[-9.22337204e+18]\n"
          ]
        },
        {
          "output_type": "stream",
          "name": "stderr",
          "text": [
            "/usr/local/lib/python3.7/dist-packages/ipykernel_launcher.py:1: RuntimeWarning: invalid value encountered in true_divide\n",
            "  \"\"\"Entry point for launching an IPython kernel.\n",
            "/usr/local/lib/python3.7/dist-packages/ipykernel_launcher.py:3: RuntimeWarning: divide by zero encountered in floor_divide\n",
            "  This is separate from the ipykernel package so we can avoid doing imports until\n"
          ]
        }
      ],
      "source": [
        "print(np.array(0) / np.array(0))\n",
        "\n",
        "print(np.array(0) // np.array(0))\n",
        "\n",
        "print(np.array([np.nan]).astype(int).astype(float))"
      ]
    },
    {
      "cell_type": "markdown",
      "metadata": {
        "id": "VYSwq6WEf-px"
      },
      "source": [
        "#### 29. How to round away from zero a float array ? (★☆☆) \n",
        "(**hint**: np.uniform, np.copysign, np.ceil, np.abs)"
      ]
    },
    {
      "cell_type": "code",
      "execution_count": 47,
      "metadata": {
        "id": "0SMlwRFif-px",
        "colab": {
          "base_uri": "https://localhost:8080/"
        },
        "outputId": "e4911a0b-3147-4462-f5cb-6c10083e18fa"
      },
      "outputs": [
        {
          "output_type": "stream",
          "name": "stdout",
          "text": [
            "[-10.   6.   7.  -7.  -8.   6.  -9.  -9.   3.   8.]\n"
          ]
        }
      ],
      "source": [
        "a29 = np.random.uniform(-10,+10,10)\n",
        "print (np.copysign(np.ceil(np.abs(a29)), a29))"
      ]
    },
    {
      "cell_type": "markdown",
      "metadata": {
        "id": "2TA9HmXYf-px"
      },
      "source": [
        "#### 30. How to find common values between two arrays? (★☆☆) \n",
        "(**hint**: np.intersect1d)"
      ]
    },
    {
      "cell_type": "code",
      "execution_count": 49,
      "metadata": {
        "id": "4_7wgJxDf-py",
        "colab": {
          "base_uri": "https://localhost:8080/"
        },
        "outputId": "a4df7673-fcf7-4908-df18-8544c2b9edf1"
      },
      "outputs": [
        {
          "output_type": "stream",
          "name": "stdout",
          "text": [
            "[0 3 5 6]\n"
          ]
        }
      ],
      "source": [
        "ar1= np.random.randint(0,10,10)\n",
        "ar2= np.random.randint(0,10,10)\n",
        "print(np.intersect1d(ar1,ar2))"
      ]
    },
    {
      "cell_type": "markdown",
      "metadata": {
        "id": "Cb5lW3dmf-py"
      },
      "source": [
        "#### 31. How to ignore all numpy warnings (not recommended)? (★☆☆) \n",
        "(**hint**: np.seterr, np.errstate)"
      ]
    },
    {
      "cell_type": "code",
      "source": [
        "# Suicide mode on\n",
        "defaults = np.seterr(all=\"ignore\")\n",
        "Z = np.ones(1) / 0\n",
        "\n",
        "# Back to sanity\n",
        "_ = np.seterr(**defaults)"
      ],
      "metadata": {
        "id": "GLse39gV3poB"
      },
      "execution_count": 147,
      "outputs": []
    },
    {
      "cell_type": "code",
      "source": [
        "with np.errstate(divide='ignore'):\n",
        "    Z = np.ones(1) / 0\n",
        "    print(Z)"
      ],
      "metadata": {
        "colab": {
          "base_uri": "https://localhost:8080/"
        },
        "id": "lydExYPK3qs0",
        "outputId": "8a289eca-d3b0-4aca-a1e4-bb08cf4a5826"
      },
      "execution_count": 149,
      "outputs": [
        {
          "output_type": "stream",
          "name": "stdout",
          "text": [
            "[inf]\n"
          ]
        }
      ]
    },
    {
      "cell_type": "markdown",
      "metadata": {
        "id": "EddDWYtzf-py"
      },
      "source": [
        "#### 32. Is the following expressions true? (★☆☆) \n",
        "(**hint**: imaginary number)"
      ]
    },
    {
      "cell_type": "markdown",
      "metadata": {
        "id": "vtCrvXqJf-pz"
      },
      "source": [
        "```python\n",
        "np.sqrt(-1) == np.emath.sqrt(-1)\n",
        "```"
      ]
    },
    {
      "cell_type": "code",
      "execution_count": 56,
      "metadata": {
        "id": "lr_-N04Sf-p1",
        "colab": {
          "base_uri": "https://localhost:8080/"
        },
        "outputId": "8ec1fb16-3a96-455a-b8e6-be34fa1e5583"
      },
      "outputs": [
        {
          "output_type": "stream",
          "name": "stdout",
          "text": [
            "False\n"
          ]
        },
        {
          "output_type": "stream",
          "name": "stderr",
          "text": [
            "/usr/local/lib/python3.7/dist-packages/ipykernel_launcher.py:1: RuntimeWarning: invalid value encountered in sqrt\n",
            "  \"\"\"Entry point for launching an IPython kernel.\n"
          ]
        }
      ],
      "source": [
        "print(np.sqrt(-1) == np.emath.sqrt(-1))"
      ]
    },
    {
      "cell_type": "markdown",
      "metadata": {
        "id": "fmtRDjSxf-p1"
      },
      "source": [
        "#### 33. How to get the dates of yesterday, today and tomorrow? (★☆☆) \n",
        "(**hint**: np.datetime64, np.timedelta64)"
      ]
    },
    {
      "cell_type": "code",
      "execution_count": 58,
      "metadata": {
        "collapsed": true,
        "id": "UeiAZfdlf-p2",
        "colab": {
          "base_uri": "https://localhost:8080/"
        },
        "outputId": "1e860fbd-cbd6-4f4e-f974-001a3070645a"
      },
      "outputs": [
        {
          "output_type": "stream",
          "name": "stdout",
          "text": [
            "yesterday : :  2022-03-22\n",
            "today : :  2022-03-23\n",
            "tomorrow : :  2022-03-24\n"
          ]
        }
      ],
      "source": [
        "yesterday = np.datetime64('today', 'D') - np.timedelta64(1, 'D')\n",
        "print(\"yesterday : : \",yesterday)\n",
        "today = np.datetime64('today', 'D')\n",
        "print(\"today : : \",today)\n",
        "tomorrow = np.datetime64('today', 'D') + np.timedelta64(1, 'D')\n",
        "print(\"tomorrow : : \",tomorrow)"
      ]
    },
    {
      "cell_type": "markdown",
      "metadata": {
        "id": "sctNFiSPf-p2"
      },
      "source": [
        "#### 34. How to get all the dates corresponding to the month of July 2016? (★★☆) \n",
        "(**hint**: np.arange(dtype=datetime64\\['D'\\]))"
      ]
    },
    {
      "cell_type": "code",
      "execution_count": 59,
      "metadata": {
        "id": "FA6FJUAqf-p3",
        "colab": {
          "base_uri": "https://localhost:8080/"
        },
        "outputId": "4d2ab1d8-ad63-4f2a-9b59-77bd9f731388"
      },
      "outputs": [
        {
          "output_type": "stream",
          "name": "stdout",
          "text": [
            "['2016-07-01' '2016-07-02' '2016-07-03' '2016-07-04' '2016-07-05'\n",
            " '2016-07-06' '2016-07-07' '2016-07-08' '2016-07-09' '2016-07-10'\n",
            " '2016-07-11' '2016-07-12' '2016-07-13' '2016-07-14' '2016-07-15'\n",
            " '2016-07-16' '2016-07-17' '2016-07-18' '2016-07-19' '2016-07-20'\n",
            " '2016-07-21' '2016-07-22' '2016-07-23' '2016-07-24' '2016-07-25'\n",
            " '2016-07-26' '2016-07-27' '2016-07-28' '2016-07-29' '2016-07-30'\n",
            " '2016-07-31']\n"
          ]
        }
      ],
      "source": [
        "a34= np.arange('2016-07', '2016-08', dtype='datetime64[D]')\n",
        "print(a34)"
      ]
    },
    {
      "cell_type": "markdown",
      "metadata": {
        "id": "vx4q3atKf-p3"
      },
      "source": [
        "#### 35. How to compute ((A+B)\\*(-A/2)) in place (without copy)? (★★☆) \n",
        "(**hint**: np.add(out=), np.negative(out=), np.multiply(out=), np.divide(out=))"
      ]
    },
    {
      "cell_type": "code",
      "execution_count": 62,
      "metadata": {
        "id": "zWozUj_3f-p4",
        "colab": {
          "base_uri": "https://localhost:8080/"
        },
        "outputId": "56c79950-d59d-4e1f-ac57-17aedb888177"
      },
      "outputs": [
        {
          "output_type": "stream",
          "name": "stdout",
          "text": [
            "[1. 1. 1.]\n",
            "[2. 2. 2.]\n",
            "[3. 3. 3.]\n",
            "add : : [3. 3. 3.]\n",
            "division : :  [0.5 0.5 0.5]\n",
            "negative : : [-0.5 -0.5 -0.5]\n",
            "multiplication : :  [-1.5 -1.5 -1.5]\n"
          ]
        }
      ],
      "source": [
        "A = np.ones(3)*1\n",
        "print(A)\n",
        "B = np.ones(3)*2\n",
        "print(B)\n",
        "C = np.ones(3)*3\n",
        "print(C)\n",
        "print(\"add : :\",np.add(A,B,out=B))\n",
        "print(\"division : : \",np.divide(A,2,out=A))\n",
        "print(\"negative : :\",np.negative(A,out=A))\n",
        "print(\"multiplication : : \",np.multiply(A,B,out=A))"
      ]
    },
    {
      "cell_type": "markdown",
      "metadata": {
        "id": "8pkzXQvrf-p4"
      },
      "source": [
        "#### 36. Extract the integer part of a random array using 5 different methods (★★☆) \n",
        "(**hint**: %, np.floor, np.ceil, astype, np.trunc)"
      ]
    },
    {
      "cell_type": "code",
      "execution_count": 69,
      "metadata": {
        "id": "LPJN3onhf-p6",
        "colab": {
          "base_uri": "https://localhost:8080/"
        },
        "outputId": "83777ab4-64de-44bf-c68f-674d86ac0cd4"
      },
      "outputs": [
        {
          "output_type": "stream",
          "name": "stdout",
          "text": [
            "percenatge : :  [4. 6. 7. 3. 9. 8. 7. 7. 9. 8.]\n",
            "floor : :  [4. 6. 7. 3. 9. 8. 7. 7. 9. 8.]\n",
            "ceil : :  [4. 6. 7. 3. 9. 8. 7. 7. 9. 8.]\n",
            "astype : :  [4 6 7 3 9 8 7 7 9 8]\n",
            "trunc : :  [4. 6. 7. 3. 9. 8. 7. 7. 9. 8.]\n"
          ]
        }
      ],
      "source": [
        "a36 = np.random.uniform(0,10,10)\n",
        "\n",
        "print (\"percenatge : : \",a36- a36%1)\n",
        "print (\"floor : : \",np.floor(a36))\n",
        "print (\"ceil : : \",np.ceil(a36)-1)\n",
        "print (\"astype : : \",a36.astype(int))\n",
        "print (\"trunc : : \",np.trunc(a36))"
      ]
    },
    {
      "cell_type": "markdown",
      "metadata": {
        "id": "gEJEDiG1f-p7"
      },
      "source": [
        "#### 37. Create a 5x5 matrix with row values ranging from 0 to 4 (★★☆) \n",
        "(**hint**: np.arange)"
      ]
    },
    {
      "cell_type": "code",
      "execution_count": 70,
      "metadata": {
        "id": "odyQeG-6f-p7",
        "colab": {
          "base_uri": "https://localhost:8080/"
        },
        "outputId": "7980ed3e-34b0-469c-ebb4-9531b9df53eb"
      },
      "outputs": [
        {
          "output_type": "stream",
          "name": "stdout",
          "text": [
            "[[0. 1. 2. 3. 4.]\n",
            " [0. 1. 2. 3. 4.]\n",
            " [0. 1. 2. 3. 4.]\n",
            " [0. 1. 2. 3. 4.]\n",
            " [0. 1. 2. 3. 4.]]\n"
          ]
        }
      ],
      "source": [
        "a37 = np.zeros((5,5))\n",
        "a37+= np.arange(5)\n",
        "print(a37)"
      ]
    },
    {
      "cell_type": "markdown",
      "metadata": {
        "id": "qK6Ovsy7f-p8"
      },
      "source": [
        "#### 38. Consider a generator function that generates 10 integers and use it to build an array (★☆☆) \n",
        "(**hint**: np.fromiter)"
      ]
    },
    {
      "cell_type": "code",
      "execution_count": 72,
      "metadata": {
        "id": "vb5PBM1qf-p9",
        "colab": {
          "base_uri": "https://localhost:8080/"
        },
        "outputId": "361bd368-e8dd-4e83-be40-e09ce892f569"
      },
      "outputs": [
        {
          "output_type": "stream",
          "name": "stdout",
          "text": [
            "[0. 1. 2. 3. 4. 5. 6. 7. 8. 9.]\n"
          ]
        }
      ],
      "source": [
        "def generate():\n",
        "  for x in range(10):\n",
        "    yield x\n",
        "\n",
        "a38 = np.fromiter(generate(),dtype=float,count=-1)\n",
        "print(a38)"
      ]
    },
    {
      "cell_type": "markdown",
      "metadata": {
        "id": "aWFlMJUxf-p9"
      },
      "source": [
        "#### 39. Create a vector of size 10 with values ranging from 0 to 1, both excluded (★★☆) \n",
        "(**hint**: np.linspace)"
      ]
    },
    {
      "cell_type": "code",
      "execution_count": 73,
      "metadata": {
        "id": "kl4okttpf-p-",
        "colab": {
          "base_uri": "https://localhost:8080/"
        },
        "outputId": "81e03a10-f7a0-41cb-bb97-20319015173c"
      },
      "outputs": [
        {
          "output_type": "stream",
          "name": "stdout",
          "text": [
            "[0.09090909 0.18181818 0.27272727 0.36363636 0.45454545 0.54545455\n",
            " 0.63636364 0.72727273 0.81818182 0.90909091]\n"
          ]
        }
      ],
      "source": [
        "a39 = np.linspace(0,1,12,endpoint=True)[1:-1]\n",
        "\n",
        "print(a39)"
      ]
    },
    {
      "cell_type": "markdown",
      "metadata": {
        "id": "2HhMCo6nf-p-"
      },
      "source": [
        "#### 40. Create a random vector of size 10 and sort it (★★☆) \n",
        "(**hint**: sort)"
      ]
    },
    {
      "cell_type": "code",
      "execution_count": 74,
      "metadata": {
        "id": "8h0nDXnxf-p-",
        "colab": {
          "base_uri": "https://localhost:8080/"
        },
        "outputId": "3fee8169-f0d1-4bf1-df41-e249dab9496d"
      },
      "outputs": [
        {
          "output_type": "stream",
          "name": "stdout",
          "text": [
            "[0.01255627 0.16848631 0.40261302 0.67145283 0.73182373 0.75866022\n",
            " 0.79318    0.82003314 0.94011008 0.99872484]\n"
          ]
        }
      ],
      "source": [
        "a40 = np.random.random(10)\n",
        "a40.sort()\n",
        "\n",
        "print(a40)"
      ]
    },
    {
      "cell_type": "markdown",
      "metadata": {
        "id": "GbBKtk73f-p_"
      },
      "source": [
        "#### 41. How to sum a small array faster than np.sum? (★★☆) \n",
        "(**hint**: np.add.reduce)"
      ]
    },
    {
      "cell_type": "code",
      "execution_count": 75,
      "metadata": {
        "id": "7eeKAi9Wf-qA",
        "colab": {
          "base_uri": "https://localhost:8080/"
        },
        "outputId": "2b716278-c5ec-424e-bd6c-29ec1c32746d"
      },
      "outputs": [
        {
          "output_type": "execute_result",
          "data": {
            "text/plain": [
              "45"
            ]
          },
          "metadata": {},
          "execution_count": 75
        }
      ],
      "source": [
        "a41 = np.arange(10)\n",
        "\n",
        "np.add.reduce(a41)"
      ]
    },
    {
      "cell_type": "markdown",
      "metadata": {
        "id": "ZpXlmFBVf-qB"
      },
      "source": [
        "#### 42. Consider two random array A and B, check if they are equal (★★☆) \n",
        "(**hint**: np.allclose, np.array\\_equal)"
      ]
    },
    {
      "cell_type": "code",
      "execution_count": 78,
      "metadata": {
        "id": "UCMtWgUMf-qB",
        "colab": {
          "base_uri": "https://localhost:8080/"
        },
        "outputId": "45111238-049b-433e-fd21-c939d30295d0"
      },
      "outputs": [
        {
          "output_type": "stream",
          "name": "stdout",
          "text": [
            "Allclose : :  False\n",
            "array_equal : :  False\n"
          ]
        }
      ],
      "source": [
        "A = np.random.randint(0,2,5)\n",
        "\n",
        "B = np.random.randint(0,2,5)\n",
        "\n",
        "# Assuming identical shape of the arrays and a tolerance for the comparison of values\n",
        "\n",
        "cl_equal = np.allclose(A,B)\n",
        "\n",
        "print(\"Allclose : : \",cl_equal)\n",
        "\n",
        "# Checking both the shape and the element values, no tolerance (values have to be exactly equal)\n",
        "\n",
        "arr_equal = np.array_equal(A,B)\n",
        "\n",
        "print(\"array_equal : : \",arr_equal)"
      ]
    },
    {
      "cell_type": "markdown",
      "metadata": {
        "id": "K2bZCQfuf-qC"
      },
      "source": [
        "#### 43. Make an array immutable (read-only) (★★☆) \n",
        "(**hint**: flags.writeable)"
      ]
    },
    {
      "cell_type": "code",
      "execution_count": 191,
      "metadata": {
        "id": "OJ6H-uNTf-qD",
        "colab": {
          "base_uri": "https://localhost:8080/",
          "height": 200
        },
        "outputId": "2d6809a4-fd12-49c4-c65f-3acf6e804ea3"
      },
      "outputs": [
        {
          "output_type": "error",
          "ename": "ValueError",
          "evalue": "ignored",
          "traceback": [
            "\u001b[0;31m---------------------------------------------------------------------------\u001b[0m",
            "\u001b[0;31mValueError\u001b[0m                                Traceback (most recent call last)",
            "\u001b[0;32m<ipython-input-191-dcc5e7f145b5>\u001b[0m in \u001b[0;36m<module>\u001b[0;34m()\u001b[0m\n\u001b[1;32m      1\u001b[0m \u001b[0mZ\u001b[0m \u001b[0;34m=\u001b[0m \u001b[0mnp\u001b[0m\u001b[0;34m.\u001b[0m\u001b[0mzeros\u001b[0m\u001b[0;34m(\u001b[0m\u001b[0;36m10\u001b[0m\u001b[0;34m)\u001b[0m\u001b[0;34m\u001b[0m\u001b[0;34m\u001b[0m\u001b[0m\n\u001b[1;32m      2\u001b[0m \u001b[0mZ\u001b[0m\u001b[0;34m.\u001b[0m\u001b[0mflags\u001b[0m\u001b[0;34m.\u001b[0m\u001b[0mwriteable\u001b[0m \u001b[0;34m=\u001b[0m \u001b[0;32mFalse\u001b[0m\u001b[0;34m\u001b[0m\u001b[0;34m\u001b[0m\u001b[0m\n\u001b[0;32m----> 3\u001b[0;31m \u001b[0mZ\u001b[0m\u001b[0;34m[\u001b[0m\u001b[0;36m0\u001b[0m\u001b[0;34m]\u001b[0m \u001b[0;34m=\u001b[0m \u001b[0;36m1\u001b[0m\u001b[0;34m\u001b[0m\u001b[0;34m\u001b[0m\u001b[0m\n\u001b[0m",
            "\u001b[0;31mValueError\u001b[0m: assignment destination is read-only"
          ]
        }
      ],
      "source": [
        "Z = np.zeros(10)\n",
        "Z.flags.writeable = False\n",
        "Z[0] = 1"
      ]
    },
    {
      "cell_type": "markdown",
      "metadata": {
        "id": "Q1EPSIq1f-qD"
      },
      "source": [
        "#### 44. Consider a random 10x2 matrix representing cartesian coordinates, convert them to polar coordinates (★★☆) \n",
        "(**hint**: np.sqrt, np.arctan2)"
      ]
    },
    {
      "cell_type": "code",
      "execution_count": 84,
      "metadata": {
        "id": "64RX0mKzf-qF",
        "colab": {
          "base_uri": "https://localhost:8080/"
        },
        "outputId": "6fa7cbce-263e-4e90-e88d-1e5ea1f9a2f9"
      },
      "outputs": [
        {
          "output_type": "stream",
          "name": "stdout",
          "text": [
            "[0.4102084  1.11625216 0.40233764 0.92349742 0.57623066 0.48213246\n",
            " 0.92447682 0.69558779 0.69838898 0.52051901]\n",
            "[0.70205662 0.60026241 0.74911442 1.54726633 0.61083534 0.05188064\n",
            " 1.45848091 0.03723617 1.10918885 1.2588627 ]\n"
          ]
        }
      ],
      "source": [
        "Z = np.random.random((10,2))\n",
        "\n",
        "X,Y = Z[:,0], Z[:,1]\n",
        "\n",
        "R = np.sqrt(X**2+Y**2)\n",
        "\n",
        "T = np.arctan2(Y,X)\n",
        "\n",
        "print(R)\n",
        "\n",
        "print(T)"
      ]
    },
    {
      "cell_type": "markdown",
      "metadata": {
        "id": "Owu_lG1cf-qF"
      },
      "source": [
        "#### 45. Create random vector of size 10 and replace the maximum value by 0 (★★☆) \n",
        "(**hint**: argmax)"
      ]
    },
    {
      "cell_type": "code",
      "execution_count": 85,
      "metadata": {
        "id": "dDebS1IFf-qG",
        "colab": {
          "base_uri": "https://localhost:8080/"
        },
        "outputId": "1992f210-af87-4dfa-e4d1-1eab5a79cdb2"
      },
      "outputs": [
        {
          "output_type": "stream",
          "name": "stdout",
          "text": [
            "[0.9051605  0.         0.72012549 0.66214238 0.33556639 0.85047526\n",
            " 0.54964106 0.32506039 0.11919367 0.1946758 ]\n"
          ]
        }
      ],
      "source": [
        "a45= np.random.random(10)\n",
        "\n",
        "a45[a45.argmax()] = 0\n",
        "\n",
        "print(a45)"
      ]
    },
    {
      "cell_type": "markdown",
      "metadata": {
        "id": "bPCIjvu2f-qG"
      },
      "source": [
        "#### 46. Create a structured array with `x` and `y` coordinates covering the \\[0,1\\]x\\[0,1\\] area (★★☆) \n",
        "(**hint**: np.meshgrid)"
      ]
    },
    {
      "cell_type": "code",
      "execution_count": 86,
      "metadata": {
        "id": "z3iwPizyf-qG",
        "colab": {
          "base_uri": "https://localhost:8080/"
        },
        "outputId": "b0137c19-6bdb-4c50-b2de-cc084a7455e0"
      },
      "outputs": [
        {
          "output_type": "stream",
          "name": "stdout",
          "text": [
            "[[(0.  , 0.  ) (0.25, 0.  ) (0.5 , 0.  ) (0.75, 0.  ) (1.  , 0.  )]\n",
            " [(0.  , 0.25) (0.25, 0.25) (0.5 , 0.25) (0.75, 0.25) (1.  , 0.25)]\n",
            " [(0.  , 0.5 ) (0.25, 0.5 ) (0.5 , 0.5 ) (0.75, 0.5 ) (1.  , 0.5 )]\n",
            " [(0.  , 0.75) (0.25, 0.75) (0.5 , 0.75) (0.75, 0.75) (1.  , 0.75)]\n",
            " [(0.  , 1.  ) (0.25, 1.  ) (0.5 , 1.  ) (0.75, 1.  ) (1.  , 1.  )]]\n"
          ]
        }
      ],
      "source": [
        "a46= np.zeros((5,5), [('x',float),('y',float)])\n",
        "\n",
        "a46['x'], a46['y'] = np.meshgrid(np.linspace(0,1,5),\n",
        "\n",
        "np.linspace(0,1,5))\n",
        "\n",
        "print(a46)"
      ]
    },
    {
      "cell_type": "markdown",
      "metadata": {
        "id": "tLH1fWQRf-qH"
      },
      "source": [
        "####  47. Given two arrays, X and Y, construct the Cauchy matrix C (Cij =1/(xi - yj)) \n",
        "(**hint**: np.subtract.outer)"
      ]
    },
    {
      "cell_type": "code",
      "execution_count": 87,
      "metadata": {
        "id": "72t1V1R4f-qH",
        "colab": {
          "base_uri": "https://localhost:8080/"
        },
        "outputId": "ed8bdab9-c187-437b-b7be-7369c84450ce"
      },
      "outputs": [
        {
          "output_type": "stream",
          "name": "stdout",
          "text": [
            "3638.163637117973\n"
          ]
        }
      ],
      "source": [
        "X = np.arange(8)\n",
        "\n",
        "Y = X + 0.5\n",
        "\n",
        "C = 1.0 / np.subtract.outer(X, Y)\n",
        "\n",
        "print(np.linalg.det(C))"
      ]
    },
    {
      "cell_type": "markdown",
      "metadata": {
        "id": "dgH0H13cf-qH"
      },
      "source": [
        "#### 48. Print the minimum and maximum representable value for each numpy scalar type (★★☆) \n",
        "(**hint**: np.iinfo, np.finfo, eps)"
      ]
    },
    {
      "cell_type": "code",
      "execution_count": 88,
      "metadata": {
        "id": "pPlSfJUZf-qI",
        "colab": {
          "base_uri": "https://localhost:8080/"
        },
        "outputId": "b5e823b2-fd92-4b7e-f0bb-5e293f4ea52c"
      },
      "outputs": [
        {
          "output_type": "stream",
          "name": "stdout",
          "text": [
            "-128\n",
            "127\n",
            "-2147483648\n",
            "2147483647\n",
            "-9223372036854775808\n",
            "9223372036854775807\n",
            "-3.4028235e+38\n",
            "3.4028235e+38\n",
            "1.1920929e-07\n",
            "-1.7976931348623157e+308\n",
            "1.7976931348623157e+308\n",
            "2.220446049250313e-16\n"
          ]
        }
      ],
      "source": [
        "for dtype in [np.int8, np.int32, np.int64]:\n",
        "  print(np.iinfo(dtype).min)\n",
        "  print(np.iinfo(dtype).max)\n",
        "for dtype in [np.float32, np.float64]:\n",
        "  print(np.finfo(dtype).min)\n",
        "  print(np.finfo(dtype).max)\n",
        "  print(np.finfo(dtype).eps)"
      ]
    },
    {
      "cell_type": "markdown",
      "metadata": {
        "id": "N5-icaJhf-qI"
      },
      "source": [
        "#### 49. How to print all the values of an array? (★★☆) \n",
        "(**hint**: np.set\\_printoptions)"
      ]
    },
    {
      "cell_type": "code",
      "execution_count": 190,
      "metadata": {
        "id": "prylAAXbf-qI",
        "colab": {
          "base_uri": "https://localhost:8080/"
        },
        "outputId": "ea5e2c46-3efb-4331-9912-08daa8ff7577"
      },
      "outputs": [
        {
          "output_type": "stream",
          "name": "stdout",
          "text": [
            "[[0. 0. 0. 0. 0. 0. 0. 0. 0. 0. 0. 0. 0. 0. 0. 0. 0. 0. 0. 0.]\n",
            " [0. 0. 0. 0. 0. 0. 0. 0. 0. 0. 0. 0. 0. 0. 0. 0. 0. 0. 0. 0.]\n",
            " [0. 0. 0. 0. 0. 0. 0. 0. 0. 0. 0. 0. 0. 0. 0. 0. 0. 0. 0. 0.]\n",
            " [0. 0. 0. 0. 0. 0. 0. 0. 0. 0. 0. 0. 0. 0. 0. 0. 0. 0. 0. 0.]\n",
            " [0. 0. 0. 0. 0. 0. 0. 0. 0. 0. 0. 0. 0. 0. 0. 0. 0. 0. 0. 0.]\n",
            " [0. 0. 0. 0. 0. 0. 0. 0. 0. 0. 0. 0. 0. 0. 0. 0. 0. 0. 0. 0.]\n",
            " [0. 0. 0. 0. 0. 0. 0. 0. 0. 0. 0. 0. 0. 0. 0. 0. 0. 0. 0. 0.]\n",
            " [0. 0. 0. 0. 0. 0. 0. 0. 0. 0. 0. 0. 0. 0. 0. 0. 0. 0. 0. 0.]\n",
            " [0. 0. 0. 0. 0. 0. 0. 0. 0. 0. 0. 0. 0. 0. 0. 0. 0. 0. 0. 0.]\n",
            " [0. 0. 0. 0. 0. 0. 0. 0. 0. 0. 0. 0. 0. 0. 0. 0. 0. 0. 0. 0.]\n",
            " [0. 0. 0. 0. 0. 0. 0. 0. 0. 0. 0. 0. 0. 0. 0. 0. 0. 0. 0. 0.]\n",
            " [0. 0. 0. 0. 0. 0. 0. 0. 0. 0. 0. 0. 0. 0. 0. 0. 0. 0. 0. 0.]\n",
            " [0. 0. 0. 0. 0. 0. 0. 0. 0. 0. 0. 0. 0. 0. 0. 0. 0. 0. 0. 0.]\n",
            " [0. 0. 0. 0. 0. 0. 0. 0. 0. 0. 0. 0. 0. 0. 0. 0. 0. 0. 0. 0.]\n",
            " [0. 0. 0. 0. 0. 0. 0. 0. 0. 0. 0. 0. 0. 0. 0. 0. 0. 0. 0. 0.]\n",
            " [0. 0. 0. 0. 0. 0. 0. 0. 0. 0. 0. 0. 0. 0. 0. 0. 0. 0. 0. 0.]\n",
            " [0. 0. 0. 0. 0. 0. 0. 0. 0. 0. 0. 0. 0. 0. 0. 0. 0. 0. 0. 0.]\n",
            " [0. 0. 0. 0. 0. 0. 0. 0. 0. 0. 0. 0. 0. 0. 0. 0. 0. 0. 0. 0.]\n",
            " [0. 0. 0. 0. 0. 0. 0. 0. 0. 0. 0. 0. 0. 0. 0. 0. 0. 0. 0. 0.]\n",
            " [0. 0. 0. 0. 0. 0. 0. 0. 0. 0. 0. 0. 0. 0. 0. 0. 0. 0. 0. 0.]]\n"
          ]
        }
      ],
      "source": [
        "np.set_printoptions(threshold=float(\"inf\"))\n",
        "a49 = np.zeros((20,20))\n",
        "print(a49)"
      ]
    },
    {
      "cell_type": "markdown",
      "metadata": {
        "id": "I6gjH5zTf-qJ"
      },
      "source": [
        "#### 50. How to find the closest value (to a given scalar) in a vector? (★★☆) \n",
        "(**hint**: argmin)"
      ]
    },
    {
      "cell_type": "code",
      "execution_count": 94,
      "metadata": {
        "id": "IqgZh5Ftf-qJ",
        "colab": {
          "base_uri": "https://localhost:8080/"
        },
        "outputId": "9fd31439-c75a-430d-f8b7-795e730e930e"
      },
      "outputs": [
        {
          "output_type": "stream",
          "name": "stdout",
          "text": [
            "2\n"
          ]
        }
      ],
      "source": [
        "a50= np.arange(100)\n",
        "\n",
        "v = np.random.uniform(0,100)\n",
        "\n",
        "index = (np.abs(a50-v)).argmin()\n",
        "\n",
        "print(a50[index])"
      ]
    },
    {
      "cell_type": "markdown",
      "metadata": {
        "id": "YMBkkRNZf-qJ"
      },
      "source": [
        "#### 51. Create a structured array representing a position (x,y) and a color (r,g,b) (★★☆) \n",
        "(**hint**: dtype)"
      ]
    },
    {
      "cell_type": "code",
      "execution_count": 95,
      "metadata": {
        "id": "EMSL8IZ8f-qK",
        "colab": {
          "base_uri": "https://localhost:8080/"
        },
        "outputId": "d4fea601-0aa9-4b49-9dab-196c3067ee79"
      },
      "outputs": [
        {
          "output_type": "stream",
          "name": "stdout",
          "text": [
            "[((0., 0.), (0., 0., 0.)) ((0., 0.), (0., 0., 0.))\n",
            " ((0., 0.), (0., 0., 0.)) ((0., 0.), (0., 0., 0.))\n",
            " ((0., 0.), (0., 0., 0.)) ((0., 0.), (0., 0., 0.))\n",
            " ((0., 0.), (0., 0., 0.)) ((0., 0.), (0., 0., 0.))\n",
            " ((0., 0.), (0., 0., 0.)) ((0., 0.), (0., 0., 0.))]\n"
          ]
        },
        {
          "output_type": "stream",
          "name": "stderr",
          "text": [
            "/usr/local/lib/python3.7/dist-packages/ipykernel_launcher.py:9: FutureWarning: Passing (type, 1) or '1type' as a synonym of type is deprecated; in a future version of numpy, it will be understood as (type, (1,)) / '(1,)type'.\n",
            "  if __name__ == '__main__':\n"
          ]
        }
      ],
      "source": [
        "a51= np.zeros(10, [ ('position', [ ('x', float, 1),\n",
        "\n",
        "('y', float, 1)]),\n",
        "\n",
        "('color', [ ('r', float, 1),\n",
        "\n",
        "('g', float, 1),\n",
        "\n",
        "('b', float, 1)])])\n",
        "\n",
        "print(a51)"
      ]
    },
    {
      "cell_type": "markdown",
      "metadata": {
        "id": "PqvIwf_nf-qL"
      },
      "source": [
        "#### 52. Consider a random vector with shape (100,2) representing coordinates, find point by point distances (★★☆) \n",
        "(**hint**: np.atleast\\_2d, T, np.sqrt)"
      ]
    },
    {
      "cell_type": "code",
      "execution_count": 96,
      "metadata": {
        "id": "ehfULkl_f-qL",
        "colab": {
          "base_uri": "https://localhost:8080/"
        },
        "outputId": "bb6008b8-02ab-4211-c72c-cc63444652e9"
      },
      "outputs": [
        {
          "output_type": "stream",
          "name": "stdout",
          "text": [
            "[[0.         0.65181603 0.13401056 0.21768803 0.268124   0.76504166\n",
            "  0.76115932 0.33985264 0.19443928 0.395412  ]\n",
            " [0.65181603 0.         0.61145407 0.85711244 0.41081775 0.26469801\n",
            "  0.44011272 0.95980929 0.48927243 0.91877974]\n",
            " [0.13401056 0.61145407 0.         0.32719737 0.2933663  0.76803664\n",
            "  0.79980459 0.4551018  0.24558796 0.52858247]\n",
            " [0.21768803 0.85711244 0.32719737 0.         0.45297313 0.93840378\n",
            "  0.89678122 0.12839428 0.37266502 0.25717799]\n",
            " [0.268124   0.41081775 0.2933663  0.45297313 0.         0.4969501\n",
            "  0.50695298 0.54974105 0.08031686 0.51641383]\n",
            " [0.76504166 0.26469801 0.76803664 0.93840378 0.4969501  0.\n",
            "  0.20879259 1.01659052 0.57362463 0.92670209]\n",
            " [0.76115932 0.44011272 0.79980459 0.89678122 0.50695298 0.20879259\n",
            "  0.         0.95168276 0.56865166 0.8293734 ]\n",
            " [0.33985264 0.95980929 0.4551018  0.12839428 0.54974105 1.01659052\n",
            "  0.95168276 0.         0.47056381 0.18947494]\n",
            " [0.19443928 0.48927243 0.24558796 0.37266502 0.08031686 0.57362463\n",
            "  0.56865166 0.47056381 0.         0.44793732]\n",
            " [0.395412   0.91877974 0.52858247 0.25717799 0.51641383 0.92670209\n",
            "  0.8293734  0.18947494 0.44793732 0.        ]]\n",
            "[[0.         0.4195655  0.56906965 0.47960512 0.33927262 0.58829668\n",
            "  0.49740485 0.41935307 0.17802765 0.3754675 ]\n",
            " [0.4195655  0.         0.17032716 0.71502994 0.73022    0.25886958\n",
            "  0.22543879 0.69329654 0.24236197 0.04926743]\n",
            " [0.56906965 0.17032716 0.         0.88445474 0.8537487  0.32314556\n",
            "  0.17449663 0.86361901 0.39841615 0.21913991]\n",
            " [0.47960512 0.71502994 0.88445474 0.         0.66188754 0.70790286\n",
            "  0.89234172 0.0778928  0.54240472 0.66766143]\n",
            " [0.33927262 0.73022    0.8537487  0.66188754 0.         0.92493819\n",
            "  0.73396371 0.58462611 0.50387075 0.69267963]\n",
            " [0.58829668 0.25886958 0.32314556 0.70790286 0.92493819 0.\n",
            "  0.462561   0.71451345 0.42339782 0.26635254]\n",
            " [0.49740485 0.22543879 0.17449663 0.89234172 0.73396371 0.462561\n",
            "  0.         0.85701527 0.3567131  0.25445977]\n",
            " [0.41935307 0.69329654 0.86361901 0.0778928  0.58462611 0.71451345\n",
            "  0.85701527 0.         0.50189288 0.64472848]\n",
            " [0.17802765 0.24236197 0.39841615 0.54240472 0.50387075 0.42339782\n",
            "  0.3567131  0.50189288 0.         0.19749303]\n",
            " [0.3754675  0.04926743 0.21913991 0.66766143 0.69267963 0.26635254\n",
            "  0.25445977 0.64472848 0.19749303 0.        ]]\n"
          ]
        }
      ],
      "source": [
        "Z = np.random.random((10,2))\n",
        "\n",
        "X,Y = np.atleast_2d(Z[:,0], Z[:,1])\n",
        "\n",
        "D = np.sqrt( (X-X.T)**2 + (Y-Y.T)**2)\n",
        "\n",
        "print(D)\n",
        "\n",
        "# Much faster with scipy\n",
        "\n",
        "import scipy\n",
        "\n",
        "# Thanks Gavin Heverly-Coulson (#issue 1)\n",
        "\n",
        "import scipy.spatial\n",
        "\n",
        "Z = np.random.random((10,2))\n",
        "\n",
        "D = scipy.spatial.distance.cdist(Z,Z)\n",
        "\n",
        "print(D)"
      ]
    },
    {
      "cell_type": "markdown",
      "metadata": {
        "id": "5-fK_z0Xf-qL"
      },
      "source": [
        "#### 53. How to convert a float (32 bits) array into an integer (32 bits) in place? \n",
        "(**hint**: astype(copy=False))"
      ]
    },
    {
      "cell_type": "code",
      "execution_count": 97,
      "metadata": {
        "id": "0kMM9m8nf-qM",
        "colab": {
          "base_uri": "https://localhost:8080/"
        },
        "outputId": "42329490-92d4-4180-f61d-c2eb426c1586"
      },
      "outputs": [
        {
          "output_type": "stream",
          "name": "stdout",
          "text": [
            "[0. 1. 2. 3. 4. 5. 6. 7. 8. 9.]\n"
          ]
        }
      ],
      "source": [
        "a53 = np.arange(10, dtype=np.int32)\n",
        "\n",
        "a53 = a53.astype(np.float32, copy=False)\n",
        "\n",
        "print(a53)"
      ]
    },
    {
      "cell_type": "markdown",
      "metadata": {
        "id": "D1eIEbdTf-qM"
      },
      "source": [
        "#### 54. How to read the following file? (★★☆) \n",
        "(**hint**: np.genfromtxt)"
      ]
    },
    {
      "cell_type": "markdown",
      "metadata": {
        "id": "cVGAgUmrf-qM"
      },
      "source": [
        "```\n",
        "1, 2, 3, 4, 5\n",
        "6,  ,  , 7, 8\n",
        " ,  , 9,10,11\n",
        "```"
      ]
    },
    {
      "cell_type": "code",
      "execution_count": 188,
      "metadata": {
        "id": "yCQtDzt_f-qN",
        "colab": {
          "base_uri": "https://localhost:8080/"
        },
        "outputId": "43d3479a-da07-4385-8901-610b183e727f"
      },
      "outputs": [
        {
          "output_type": "stream",
          "name": "stdout",
          "text": [
            "[[ 1  2  3  4  5]\n",
            " [ 6 -1 -1  7  8]\n",
            " [-1 -1  9 10 11]]\n"
          ]
        },
        {
          "output_type": "stream",
          "name": "stderr",
          "text": [
            "/usr/local/lib/python3.7/dist-packages/ipykernel_launcher.py:8: DeprecationWarning: `np.int` is a deprecated alias for the builtin `int`. To silence this warning, use `int` by itself. Doing this will not modify any behavior and is safe. When replacing `np.int`, you may wish to use e.g. `np.int64` or `np.int32` to specify the precision. If you wish to review your current use, check the release note link for additional information.\n",
            "Deprecated in NumPy 1.20; for more details and guidance: https://numpy.org/devdocs/release/1.20.0-notes.html#deprecations\n",
            "  \n"
          ]
        }
      ],
      "source": [
        "from io import StringIO\n",
        "\n",
        "# Fake file\n",
        "s = StringIO('''1, 2, 3, 4, 5\n",
        "                6,  ,  , 7, 8\n",
        "                 ,  , 9,10,11\n",
        "''')\n",
        "Z = np.genfromtxt(s, delimiter=\",\", dtype=np.int)\n",
        "print(Z)"
      ]
    },
    {
      "cell_type": "markdown",
      "metadata": {
        "id": "D0vjW7_Yf-qN"
      },
      "source": [
        "#### 55. What is the equivalent of enumerate for numpy arrays? (★★☆) \n",
        "(**hint**: np.ndenumerate, np.ndindex)"
      ]
    },
    {
      "cell_type": "code",
      "execution_count": 104,
      "metadata": {
        "id": "j_rA5KwHf-qN",
        "colab": {
          "base_uri": "https://localhost:8080/"
        },
        "outputId": "145ba3ed-4c51-4b5f-bd22-3792a63efda7"
      },
      "outputs": [
        {
          "output_type": "stream",
          "name": "stdout",
          "text": [
            "ndenumerate : : \n",
            "(0, 0) 0\n",
            "(0, 1) 1\n",
            "(0, 2) 2\n",
            "(1, 0) 3\n",
            "(1, 1) 4\n",
            "(1, 2) 5\n",
            "(2, 0) 6\n",
            "(2, 1) 7\n",
            "(2, 2) 8\n",
            "ndindex : : \n",
            "(0, 0) 0\n",
            "(0, 1) 1\n",
            "(0, 2) 2\n",
            "(1, 0) 3\n",
            "(1, 1) 4\n",
            "(1, 2) 5\n",
            "(2, 0) 6\n",
            "(2, 1) 7\n",
            "(2, 2) 8\n"
          ]
        }
      ],
      "source": [
        "Z = np.arange(9).reshape(3,3)\n",
        "print(\"ndenumerate : : \")\n",
        "for index, value in np.ndenumerate(Z):\n",
        "  print(index, value)\n",
        "print(\"ndindex : : \")\n",
        "for index in np.ndindex(Z.shape):\n",
        "  print(index, Z[index])"
      ]
    },
    {
      "cell_type": "markdown",
      "metadata": {
        "id": "ylsVUDHSf-qO"
      },
      "source": [
        "#### 56. Generate a generic 2D Gaussian-like array (★★☆) \n",
        "(**hint**: np.meshgrid, np.exp)"
      ]
    },
    {
      "cell_type": "code",
      "execution_count": 105,
      "metadata": {
        "id": "GL_WXXOFf-qO",
        "colab": {
          "base_uri": "https://localhost:8080/"
        },
        "outputId": "73c5bd15-8bea-422b-ffc0-057d0f9c8f3c"
      },
      "outputs": [
        {
          "output_type": "stream",
          "name": "stdout",
          "text": [
            "[[0.36787944 0.44822088 0.51979489 0.57375342 0.60279818 0.60279818\n",
            "  0.57375342 0.51979489 0.44822088 0.36787944]\n",
            " [0.44822088 0.54610814 0.63331324 0.69905581 0.73444367 0.73444367\n",
            "  0.69905581 0.63331324 0.54610814 0.44822088]\n",
            " [0.51979489 0.63331324 0.73444367 0.81068432 0.85172308 0.85172308\n",
            "  0.81068432 0.73444367 0.63331324 0.51979489]\n",
            " [0.57375342 0.69905581 0.81068432 0.89483932 0.9401382  0.9401382\n",
            "  0.89483932 0.81068432 0.69905581 0.57375342]\n",
            " [0.60279818 0.73444367 0.85172308 0.9401382  0.98773022 0.98773022\n",
            "  0.9401382  0.85172308 0.73444367 0.60279818]\n",
            " [0.60279818 0.73444367 0.85172308 0.9401382  0.98773022 0.98773022\n",
            "  0.9401382  0.85172308 0.73444367 0.60279818]\n",
            " [0.57375342 0.69905581 0.81068432 0.89483932 0.9401382  0.9401382\n",
            "  0.89483932 0.81068432 0.69905581 0.57375342]\n",
            " [0.51979489 0.63331324 0.73444367 0.81068432 0.85172308 0.85172308\n",
            "  0.81068432 0.73444367 0.63331324 0.51979489]\n",
            " [0.44822088 0.54610814 0.63331324 0.69905581 0.73444367 0.73444367\n",
            "  0.69905581 0.63331324 0.54610814 0.44822088]\n",
            " [0.36787944 0.44822088 0.51979489 0.57375342 0.60279818 0.60279818\n",
            "  0.57375342 0.51979489 0.44822088 0.36787944]]\n"
          ]
        }
      ],
      "source": [
        "X, Y = np.meshgrid(np.linspace(-1,1,10), np.linspace(-1,1,10))\n",
        "\n",
        "D = np.sqrt(X*X+Y*Y)\n",
        "\n",
        "sigma, mu = 1.0, 0.0\n",
        "\n",
        "G = np.exp(-( (D-mu)**2 / ( 2.0 * sigma**2 ) ) )\n",
        "\n",
        "print(G)"
      ]
    },
    {
      "cell_type": "markdown",
      "metadata": {
        "id": "618GrFGRf-qP"
      },
      "source": [
        "#### 57. How to randomly place p elements in a 2D array? (★★☆) \n",
        "(**hint**: np.put, np.random.choice)"
      ]
    },
    {
      "cell_type": "code",
      "execution_count": 106,
      "metadata": {
        "id": "U1Y8z_SOf-qP",
        "colab": {
          "base_uri": "https://localhost:8080/"
        },
        "outputId": "8d566a1e-e6cc-4f9d-ca22-cb9d32bb970f"
      },
      "outputs": [
        {
          "output_type": "stream",
          "name": "stdout",
          "text": [
            "[[0. 0. 0. 0. 0. 0. 0. 0. 0. 0.]\n",
            " [0. 0. 0. 0. 0. 0. 0. 0. 0. 0.]\n",
            " [0. 0. 0. 0. 0. 0. 0. 0. 0. 0.]\n",
            " [0. 0. 0. 0. 0. 0. 0. 1. 0. 0.]\n",
            " [0. 0. 0. 0. 0. 0. 0. 0. 0. 0.]\n",
            " [0. 0. 0. 0. 0. 0. 0. 0. 0. 0.]\n",
            " [0. 0. 0. 0. 0. 0. 0. 0. 0. 0.]\n",
            " [0. 0. 0. 0. 0. 0. 0. 0. 0. 1.]\n",
            " [0. 0. 0. 0. 0. 0. 0. 0. 0. 0.]\n",
            " [0. 0. 1. 0. 0. 0. 0. 0. 0. 0.]]\n"
          ]
        }
      ],
      "source": [
        "n = 10\n",
        "\n",
        "p = 3\n",
        "\n",
        "a57 = np.zeros((n,n))\n",
        "\n",
        "np.put(a57, np.random.choice(range(n*n), p, replace=False),1)\n",
        "\n",
        "print(a57)"
      ]
    },
    {
      "cell_type": "markdown",
      "metadata": {
        "id": "O8RiZgsqf-qP"
      },
      "source": [
        "#### 58. Subtract the mean of each row of a matrix (★★☆) \n",
        "(**hint**: mean(axis=,keepdims=))"
      ]
    },
    {
      "cell_type": "code",
      "execution_count": 109,
      "metadata": {
        "id": "TovA7cTPf-qQ",
        "colab": {
          "base_uri": "https://localhost:8080/"
        },
        "outputId": "252975b7-ce02-47f1-c7db-41caded7b0fb"
      },
      "outputs": [
        {
          "output_type": "stream",
          "name": "stdout",
          "text": [
            "Recent versions of numpy\n",
            "\n",
            "[[-0.33762569 -0.18955361 -0.35956872 -0.32155546  0.09957598  0.09825463\n",
            "   0.26377691  0.43928606 -0.03270188  0.34011179]\n",
            " [ 0.21372627  0.15585629  0.17395134 -0.4122554  -0.22973897 -0.32068921\n",
            "  -0.17787989  0.44174657 -0.06259883  0.21788184]\n",
            " [-0.34723095  0.47747429  0.26893128 -0.38863652 -0.31555524  0.33260037\n",
            "   0.25871127 -0.19425538 -0.37258824  0.28054912]\n",
            " [-0.25689418  0.27835847 -0.02462722 -0.31450965 -0.15633685 -0.33748671\n",
            "   0.63193271 -0.34871354 -0.10044313  0.62872008]\n",
            " [-0.28712741  0.34141345  0.46276563 -0.41865482  0.08044053 -0.40580864\n",
            "  -0.48951401  0.40877263  0.37192117 -0.06420853]]\n",
            "\n",
            "Older versions of numpy\n",
            "\n",
            "[[-0.33762569 -0.18955361 -0.35956872 -0.32155546  0.09957598  0.09825463\n",
            "   0.26377691  0.43928606 -0.03270188  0.34011179]\n",
            " [ 0.21372627  0.15585629  0.17395134 -0.4122554  -0.22973897 -0.32068921\n",
            "  -0.17787989  0.44174657 -0.06259883  0.21788184]\n",
            " [-0.34723095  0.47747429  0.26893128 -0.38863652 -0.31555524  0.33260037\n",
            "   0.25871127 -0.19425538 -0.37258824  0.28054912]\n",
            " [-0.25689418  0.27835847 -0.02462722 -0.31450965 -0.15633685 -0.33748671\n",
            "   0.63193271 -0.34871354 -0.10044313  0.62872008]\n",
            " [-0.28712741  0.34141345  0.46276563 -0.41865482  0.08044053 -0.40580864\n",
            "  -0.48951401  0.40877263  0.37192117 -0.06420853]]\n"
          ]
        }
      ],
      "source": [
        "X = np.random.rand(5, 10)\n",
        "\n",
        "print(\"Recent versions of numpy\\n\")\n",
        "\n",
        "Y = X - X.mean(axis=1, keepdims=True)\n",
        "print(Y)\n",
        "\n",
        "print(\"\\nOlder versions of numpy\\n\")\n",
        "\n",
        "Y = X - X.mean(axis=1).reshape(-1, 1)\n",
        "\n",
        "print(Y)"
      ]
    },
    {
      "cell_type": "markdown",
      "metadata": {
        "id": "6PBMyY5Qf-qR"
      },
      "source": [
        "#### 59. How to sort an array by the nth column? (★★☆) \n",
        "(**hint**: argsort)"
      ]
    },
    {
      "cell_type": "code",
      "execution_count": 112,
      "metadata": {
        "id": "fhG9HEkTf-qR",
        "colab": {
          "base_uri": "https://localhost:8080/"
        },
        "outputId": "f5bf19e0-1371-4f34-8e0f-c37195ec3d6e"
      },
      "outputs": [
        {
          "output_type": "stream",
          "name": "stdout",
          "text": [
            "[[7 6 2]\n",
            " [0 0 5]\n",
            " [1 3 0]]\n",
            "\n",
            "argsort : :\n",
            "\n",
            "[[0 0 5]\n",
            " [1 3 0]\n",
            " [7 6 2]]\n"
          ]
        }
      ],
      "source": [
        "a59= np.random.randint(0,10,(3,3))\n",
        "\n",
        "print(a59)\n",
        "print(\"\\nargsort : :\\n\")\n",
        "print(a59[a59[:,1].argsort()])\n"
      ]
    },
    {
      "cell_type": "markdown",
      "metadata": {
        "id": "Ug5Hbybef-qR"
      },
      "source": [
        "#### 60. How to tell if a given 2D array has null columns? (★★☆) \n",
        "(**hint**: any, ~)"
      ]
    },
    {
      "cell_type": "code",
      "execution_count": 125,
      "metadata": {
        "id": "d_vVAxh-f-qS",
        "colab": {
          "base_uri": "https://localhost:8080/"
        },
        "outputId": "50f05c2c-d6ab-4ef4-e193-692e42040fbb"
      },
      "outputs": [
        {
          "output_type": "stream",
          "name": "stdout",
          "text": [
            "True\n"
          ]
        }
      ],
      "source": [
        "a60= np.random.randint(0,3,(3,10))\n",
        "\n",
        "print((~a60.any(axis=0)).any())"
      ]
    },
    {
      "cell_type": "markdown",
      "metadata": {
        "id": "-lptvreUf-qS"
      },
      "source": [
        "#### 61. Find the nearest value from a given value in an array (★★☆) \n",
        "(**hint**: np.abs, argmin, flat)"
      ]
    },
    {
      "cell_type": "code",
      "execution_count": 127,
      "metadata": {
        "id": "MwoYe0TFf-qT",
        "colab": {
          "base_uri": "https://localhost:8080/"
        },
        "outputId": "ea104561-5b04-4437-b597-e0b376db0b0d"
      },
      "outputs": [
        {
          "output_type": "stream",
          "name": "stdout",
          "text": [
            "0.6047203816080619\n"
          ]
        }
      ],
      "source": [
        "Z = np.random.uniform(0,1,10)\n",
        "\n",
        "z = 0.5\n",
        "\n",
        "m = Z.flat[np.abs(Z - z).argmin()]\n",
        "\n",
        "print(m)"
      ]
    },
    {
      "cell_type": "markdown",
      "metadata": {
        "id": "CXvt-X34f-qT"
      },
      "source": [
        "#### 62. Considering two arrays with shape (1,3) and (3,1), how to compute their sum using an iterator? (★★☆) \n",
        "(**hint**: np.nditer)"
      ]
    },
    {
      "cell_type": "code",
      "execution_count": 124,
      "metadata": {
        "id": "3A1j28hUf-qT",
        "colab": {
          "base_uri": "https://localhost:8080/"
        },
        "outputId": "473d01c7-afca-4559-92bb-f32ca1d10984"
      },
      "outputs": [
        {
          "output_type": "stream",
          "name": "stdout",
          "text": [
            "[[0 1 2]\n",
            " [1 2 3]\n",
            " [2 3 4]]\n"
          ]
        }
      ],
      "source": [
        "A = np.arange(3).reshape(3,1)\n",
        "\n",
        "B = np.arange(3).reshape(1,3)\n",
        "\n",
        "it = np.nditer([A,B,None])\n",
        "\n",
        "for x,y,z in it: z[...] = x + y\n",
        "\n",
        "print(it.operands[2])"
      ]
    },
    {
      "cell_type": "markdown",
      "metadata": {
        "id": "46zBfI_lf-qU"
      },
      "source": [
        "#### 63. Create an array class that has a name attribute (★★☆) \n",
        "(**hint**: class method)"
      ]
    },
    {
      "cell_type": "code",
      "execution_count": 187,
      "metadata": {
        "id": "jYJZ1Ev0f-qV",
        "colab": {
          "base_uri": "https://localhost:8080/"
        },
        "outputId": "d018dcbd-eb9b-4711-89f5-90a95903dc7d"
      },
      "outputs": [
        {
          "output_type": "stream",
          "name": "stdout",
          "text": [
            "range_10\n"
          ]
        }
      ],
      "source": [
        "class NamedArray(np.ndarray):\n",
        "    def __new__(cls, array, name=\"no name\"):\n",
        "        obj = np.asarray(array).view(cls)\n",
        "        obj.name = name\n",
        "        return obj\n",
        "    def __array_finalize__(self, obj):\n",
        "        if obj is None: return\n",
        "        self.info = getattr(obj, 'name', \"no name\")\n",
        "\n",
        "Z = NamedArray(np.arange(10), \"range_10\")\n",
        "print (Z.name)"
      ]
    },
    {
      "cell_type": "markdown",
      "metadata": {
        "id": "Sd-7apkzf-qV"
      },
      "source": [
        "#### 64. Consider a given vector, how to add 1 to each element indexed by a second vector (be careful with repeated indices)? (★★★) \n",
        "(**hint**: np.bincount | np.add.at)"
      ]
    },
    {
      "cell_type": "code",
      "execution_count": 128,
      "metadata": {
        "id": "HR_3zGl7f-qW",
        "colab": {
          "base_uri": "https://localhost:8080/"
        },
        "outputId": "a9b5570e-bdb4-4e05-e917-7e6eb534b05c"
      },
      "outputs": [
        {
          "output_type": "stream",
          "name": "stdout",
          "text": [
            "\n",
            " np.bincount \n",
            "\n",
            "[2. 1. 2. 5. 2. 3. 5. 1. 4. 5.]\n",
            "\n",
            " np.add \n",
            "\n",
            "[3. 1. 3. 9. 3. 5. 9. 1. 7. 9.]\n"
          ]
        }
      ],
      "source": [
        "print(\"\\n np.bincount \\n\")\n",
        "Z = np.ones(10)\n",
        "\n",
        "I = np.random.randint(0,len(Z),20)\n",
        "\n",
        "Z += np.bincount(I, minlength=len(Z))\n",
        "\n",
        "print(Z)\n",
        "\n",
        "print(\"\\n np.add \\n\")\n",
        "np.add.at(Z, I, 1)\n",
        "\n",
        "print(Z)"
      ]
    },
    {
      "cell_type": "markdown",
      "metadata": {
        "id": "gp_WgG08f-qW"
      },
      "source": [
        "#### 65. How to accumulate elements of a vector (X) to an array (F) based on an index list (I)? (★★★) \n",
        "(**hint**: np.bincount)"
      ]
    },
    {
      "cell_type": "code",
      "execution_count": 129,
      "metadata": {
        "id": "-0X_namdf-qX",
        "colab": {
          "base_uri": "https://localhost:8080/"
        },
        "outputId": "83e60308-e8e2-4e86-d726-19e2cf693304"
      },
      "outputs": [
        {
          "output_type": "stream",
          "name": "stdout",
          "text": [
            "[0. 7. 0. 6. 5. 0. 0. 0. 0. 3.]\n"
          ]
        }
      ],
      "source": [
        "X = [1,2,3,4,5,6]\n",
        "\n",
        "I = [1,3,9,3,4,1]\n",
        "\n",
        "F = np.bincount(I,X)\n",
        "\n",
        "print(F)"
      ]
    },
    {
      "cell_type": "markdown",
      "metadata": {
        "id": "6HBntliqf-qX"
      },
      "source": [
        "#### 66. Considering a (w,h,3) image of (dtype=ubyte), compute the number of unique colors (★★★) \n",
        "(**hint**: np.unique)"
      ]
    },
    {
      "cell_type": "code",
      "execution_count": 130,
      "metadata": {
        "id": "493Cgo7Mf-qZ",
        "colab": {
          "base_uri": "https://localhost:8080/"
        },
        "outputId": "4593920b-81f2-4981-d7bb-a690447d22d4"
      },
      "outputs": [
        {
          "output_type": "stream",
          "name": "stdout",
          "text": [
            "[0 1]\n"
          ]
        }
      ],
      "source": [
        "w,h = 16,16\n",
        "\n",
        "I = np.random.randint(0,2,(h,w,3)).astype(np.ubyte)\n",
        "\n",
        "F = I[...,0]*256*256 + I[...,1]*256 +I[...,2]\n",
        "\n",
        "n = len(np.unique(F))\n",
        "\n",
        "print(np.unique(I))"
      ]
    },
    {
      "cell_type": "markdown",
      "metadata": {
        "id": "BAqanwJ5f-qa"
      },
      "source": [
        "#### 67. Considering a four dimensions array, how to get sum over the last two axis at once? (★★★) \n",
        "(**hint**: sum(axis=(-2,-1)))"
      ]
    },
    {
      "cell_type": "code",
      "execution_count": 133,
      "metadata": {
        "id": "mo3Haa26f-qb",
        "colab": {
          "base_uri": "https://localhost:8080/"
        },
        "outputId": "0c84a601-f5d4-4bb1-b120-2bd22c831192"
      },
      "outputs": [
        {
          "output_type": "stream",
          "name": "stdout",
          "text": [
            "solution by passing a tuple of axes (introduced in numpy 1.7.0)\n",
            "\n",
            "[[59 57 63 52]\n",
            " [48 53 45 42]\n",
            " [44 63 46 37]]\n",
            "\n",
            "solution by flattening the last two dimensions into one\n",
            "\n",
            "[[59 57 63 52]\n",
            " [48 53 45 42]\n",
            " [44 63 46 37]]\n"
          ]
        }
      ],
      "source": [
        "A = np.random.randint(0,10,(3,4,3,4))\n",
        "\n",
        "print(\"solution by passing a tuple of axes (introduced in numpy 1.7.0)\\n\")\n",
        "\n",
        "sum = A.sum(axis=(-2,-1))\n",
        "\n",
        "print(sum)\n",
        "\n",
        "print(\"\\nsolution by flattening the last two dimensions into one\\n\")\n",
        "\n",
        "sum = A.reshape(A.shape[:-2] + (-1,)).sum(axis=-1)\n",
        "\n",
        "print(sum)"
      ]
    },
    {
      "cell_type": "markdown",
      "metadata": {
        "id": "AIIKQ2kNf-qb"
      },
      "source": [
        "#### 68. Considering a one-dimensional vector D, how to compute means of subsets of D using a vector S of same size describing subset  indices? (★★★) \n",
        "(**hint**: np.bincount)"
      ]
    },
    {
      "cell_type": "code",
      "execution_count": 134,
      "metadata": {
        "id": "8m4BZBfsf-qc",
        "colab": {
          "base_uri": "https://localhost:8080/"
        },
        "outputId": "bb9f274f-698c-465b-dd8a-64d093a574f8"
      },
      "outputs": [
        {
          "output_type": "stream",
          "name": "stdout",
          "text": [
            "bincount method\n",
            "\n",
            "[0.53432951 0.56010439 0.57838644 0.51232603 0.60309785 0.54457765\n",
            " 0.48978801 0.48486622 0.43959992 0.34350652]\n",
            "\n",
            "Pandas solution as a reference due to more intuitive code\n",
            "\n",
            "0    0.534330\n",
            "1    0.560104\n",
            "2    0.578386\n",
            "3    0.512326\n",
            "4    0.603098\n",
            "5    0.544578\n",
            "6    0.489788\n",
            "7    0.484866\n",
            "8    0.439600\n",
            "9    0.343507\n",
            "dtype: float64\n"
          ]
        }
      ],
      "source": [
        "D = np.random.uniform(0,1,100)\n",
        "\n",
        "S = np.random.randint(0,10,100)\n",
        "\n",
        "D_sums = np.bincount(S, weights=D)\n",
        "\n",
        "D_counts = np.bincount(S)\n",
        "\n",
        "D_means = D_sums / D_counts\n",
        "\n",
        "print(\"bincount method\\n\")\n",
        "print(D_means)\n",
        "\n",
        "print(\"\\nPandas solution as a reference due to more intuitive code\\n\")\n",
        "\n",
        "import pandas as pd\n",
        "\n",
        "print(pd.Series(D).groupby(S).mean())"
      ]
    },
    {
      "cell_type": "markdown",
      "metadata": {
        "id": "zrJiVdvLf-qc"
      },
      "source": [
        "#### 69. How to get the diagonal of a dot product? (★★★) \n",
        "(**hint**: np.diag)"
      ]
    },
    {
      "cell_type": "code",
      "execution_count": 137,
      "metadata": {
        "id": "HWhRsX0vf-qc",
        "colab": {
          "base_uri": "https://localhost:8080/"
        },
        "outputId": "09856a5d-bee9-4b6e-ca94-36c3ffe41b6f"
      },
      "outputs": [
        {
          "output_type": "stream",
          "name": "stdout",
          "text": [
            "Slow version - np.diag\n",
            "\n",
            "[0.62818535 0.56865267 1.88672211 1.09240381 0.5545414 ]\n",
            "\n",
            "Fast version- np.sum\n",
            "\n",
            "[0.62818535 0.56865267 1.88672211 1.09240381 0.5545414 ]\n",
            "\n",
            "Faster version - eisum\n",
            "\n",
            "[0.62818535 0.56865267 1.88672211 1.09240381 0.5545414 ]\n"
          ]
        }
      ],
      "source": [
        "A = np.random.uniform(0,1,(5,5))\n",
        "\n",
        "B = np.random.uniform(0,1,(5,5))\n",
        "\n",
        "print(\"Slow version - np.diag\\n\")\n",
        "\n",
        "print(np.diag(np.dot(A, B)))\n",
        "\n",
        "print(\"\\nFast version- np.sum\\n\")\n",
        "\n",
        "print(np.sum(A * B.T, axis=1))\n",
        "\n",
        "print(\"\\nFaster version - eisum\\n\")\n",
        "\n",
        "print(np.einsum(\"ij,ji->i\", A, B))"
      ]
    },
    {
      "cell_type": "markdown",
      "metadata": {
        "id": "vWYe6vTRf-qd"
      },
      "source": [
        "#### 70. Consider the vector \\[1, 2, 3, 4, 5\\], how to build a new vector with 3 consecutive zeros interleaved between each value? (★★★) \n",
        "(**hint**: array\\[::4\\])"
      ]
    },
    {
      "cell_type": "code",
      "execution_count": 138,
      "metadata": {
        "id": "J8wkO-XVf-qd",
        "colab": {
          "base_uri": "https://localhost:8080/"
        },
        "outputId": "0f7c7403-06d2-4b10-8be9-7a3eec4a0411"
      },
      "outputs": [
        {
          "output_type": "stream",
          "name": "stdout",
          "text": [
            "[1. 0. 0. 0. 2. 0. 0. 0. 3. 0. 0. 0. 4. 0. 0. 0. 5.]\n"
          ]
        }
      ],
      "source": [
        "a70= np.array([1,2,3,4,5])\n",
        "\n",
        "nz = 3\n",
        "\n",
        "Z0 = np.zeros(len(a70) + (len(a70)-1)*(nz))\n",
        "\n",
        "Z0[::nz+1] = a70\n",
        "\n",
        "print(Z0)"
      ]
    },
    {
      "cell_type": "markdown",
      "metadata": {
        "id": "6X3sB2j8f-qd"
      },
      "source": [
        "#### 71. Consider an array of dimension (5,5,3), how to mulitply it by an array with dimensions (5,5)? (★★★) \n",
        "(**hint**: array\\[:, :, None\\])"
      ]
    },
    {
      "cell_type": "code",
      "execution_count": 139,
      "metadata": {
        "collapsed": true,
        "id": "b2sIfVKVf-qd",
        "colab": {
          "base_uri": "https://localhost:8080/"
        },
        "outputId": "e803574e-3039-4bb1-8596-af9f0cbab482"
      },
      "outputs": [
        {
          "output_type": "stream",
          "name": "stdout",
          "text": [
            "[[[2. 2. 2.]\n",
            "  [2. 2. 2.]\n",
            "  [2. 2. 2.]\n",
            "  [2. 2. 2.]\n",
            "  [2. 2. 2.]]\n",
            "\n",
            " [[2. 2. 2.]\n",
            "  [2. 2. 2.]\n",
            "  [2. 2. 2.]\n",
            "  [2. 2. 2.]\n",
            "  [2. 2. 2.]]\n",
            "\n",
            " [[2. 2. 2.]\n",
            "  [2. 2. 2.]\n",
            "  [2. 2. 2.]\n",
            "  [2. 2. 2.]\n",
            "  [2. 2. 2.]]\n",
            "\n",
            " [[2. 2. 2.]\n",
            "  [2. 2. 2.]\n",
            "  [2. 2. 2.]\n",
            "  [2. 2. 2.]\n",
            "  [2. 2. 2.]]\n",
            "\n",
            " [[2. 2. 2.]\n",
            "  [2. 2. 2.]\n",
            "  [2. 2. 2.]\n",
            "  [2. 2. 2.]\n",
            "  [2. 2. 2.]]]\n"
          ]
        }
      ],
      "source": [
        "A = np.ones((5,5,3))\n",
        "\n",
        "B = 2*np.ones((5,5))\n",
        "\n",
        "print(A * B[:,:,None])"
      ]
    },
    {
      "cell_type": "markdown",
      "metadata": {
        "id": "RC5cK5cBf-qe"
      },
      "source": [
        "#### 72. How to swap two rows of an array? (★★★) \n",
        "(**hint**: array\\[\\[\\]\\] = array\\[\\[\\]\\])"
      ]
    },
    {
      "cell_type": "code",
      "execution_count": 140,
      "metadata": {
        "id": "iv1fdvqMf-qe",
        "colab": {
          "base_uri": "https://localhost:8080/"
        },
        "outputId": "4df3df00-d2a1-4bcf-c11c-0f99adf4b1ff"
      },
      "outputs": [
        {
          "output_type": "stream",
          "name": "stdout",
          "text": [
            "[[ 5  6  7  8  9]\n",
            " [ 0  1  2  3  4]\n",
            " [10 11 12 13 14]\n",
            " [15 16 17 18 19]\n",
            " [20 21 22 23 24]]\n"
          ]
        }
      ],
      "source": [
        "A = np.arange(25).reshape(5,5)\n",
        "\n",
        "A[[0,1]] = A[[1,0]]\n",
        "\n",
        "print(A)"
      ]
    },
    {
      "cell_type": "markdown",
      "metadata": {
        "id": "PsnvbpBuf-qf"
      },
      "source": [
        "#### 73. Consider a set of 10 triplets describing 10 triangles (with shared vertices), find the set of unique line segments composing all the  triangles (★★★) \n",
        "(**hint**: repeat, np.roll, np.sort, view, np.unique)"
      ]
    },
    {
      "cell_type": "code",
      "execution_count": 141,
      "metadata": {
        "id": "y-A-fXH1f-qh",
        "colab": {
          "base_uri": "https://localhost:8080/"
        },
        "outputId": "07fb8d4e-da59-412f-a7bd-6b67e97af82e"
      },
      "outputs": [
        {
          "output_type": "stream",
          "name": "stdout",
          "text": [
            "[( 3, 65) ( 3, 97) ( 9, 10) ( 9, 58) (10, 58) (15, 18) (15, 56) (15, 63)\n",
            " (15, 74) (18, 74) (21, 33) (21, 92) (23, 47) (23, 84) (25, 30) (25, 45)\n",
            " (30, 45) (33, 92) (35, 42) (35, 83) (39, 49) (39, 91) (42, 83) (47, 84)\n",
            " (49, 91) (56, 63) (63, 67) (63, 86) (65, 97) (67, 86)]\n"
          ]
        }
      ],
      "source": [
        "faces = np.random.randint(0,100,(10,3))\n",
        "\n",
        "F = np.roll(faces.repeat(2,axis=1),-1,axis=1)\n",
        "\n",
        "F = F.reshape(len(F)*3,2)\n",
        "\n",
        "F = np.sort(F,axis=1)\n",
        "\n",
        "G = F.view( dtype=[('p0',F.dtype),('p1',F.dtype)] )\n",
        "\n",
        "G = np.unique(G)\n",
        "\n",
        "print(G)"
      ]
    },
    {
      "cell_type": "markdown",
      "metadata": {
        "id": "syt58Lzof-qh"
      },
      "source": [
        "#### 74. Given an array C that is a bincount, how to produce an array A such that np.bincount(A) == C? (★★★) \n",
        "(**hint**: np.repeat)"
      ]
    },
    {
      "cell_type": "code",
      "execution_count": 142,
      "metadata": {
        "id": "gsCAKEo_f-qk",
        "colab": {
          "base_uri": "https://localhost:8080/"
        },
        "outputId": "4b8164e5-825b-4fff-9c04-d74ff738a935"
      },
      "outputs": [
        {
          "output_type": "stream",
          "name": "stdout",
          "text": [
            "[1 1 2 3 4 4 6]\n"
          ]
        }
      ],
      "source": [
        "C = np.bincount([1,1,2,3,4,4,6])\n",
        "\n",
        "A = np.repeat(np.arange(len(C)), C)\n",
        "\n",
        "print(A)"
      ]
    },
    {
      "cell_type": "markdown",
      "metadata": {
        "id": "qLB5rcOuf-qk"
      },
      "source": [
        "#### 75. How to compute averages using a sliding window over an array? (★★★) \n",
        "(**hint**: np.cumsum)"
      ]
    },
    {
      "cell_type": "code",
      "execution_count": 143,
      "metadata": {
        "id": "5CU998l4f-ql",
        "colab": {
          "base_uri": "https://localhost:8080/"
        },
        "outputId": "46f3b7ae-63a5-4790-860d-6d2e2e6fb41a"
      },
      "outputs": [
        {
          "output_type": "stream",
          "name": "stdout",
          "text": [
            "[ 1.  2.  3.  4.  5.  6.  7.  8.  9. 10. 11. 12. 13. 14. 15. 16. 17. 18.]\n"
          ]
        }
      ],
      "source": [
        "def moving_average(a, n=3) :\n",
        "  ret = np.cumsum(a, dtype=float)\n",
        "  ret[n:] = ret[n:] - ret[:-n]\n",
        "  return ret[n - 1:] / n\n",
        "\n",
        "Z = np.arange(20)\n",
        "\n",
        "print(moving_average(Z, n=3))"
      ]
    },
    {
      "cell_type": "markdown",
      "metadata": {
        "id": "TzifjSJbf-qm"
      },
      "source": [
        "#### 76. Consider a one-dimensional array Z, build a two-dimensional array whose first row is (Z\\[0\\],Z\\[1\\],Z\\[2\\]) and each subsequent row is  shifted by 1 (last row should be (Z\\[-3\\],Z\\[-2\\],Z\\[-1\\]) (★★★) \n",
        "(**hint**: from numpy.lib import stride_tricks)"
      ]
    },
    {
      "cell_type": "code",
      "execution_count": 144,
      "metadata": {
        "id": "ktOptEq6f-qn",
        "colab": {
          "base_uri": "https://localhost:8080/"
        },
        "outputId": "22b6f5e8-572b-4bb0-c016-f35006c48566"
      },
      "outputs": [
        {
          "output_type": "stream",
          "name": "stdout",
          "text": [
            "[[0 1 2]\n",
            " [1 2 3]\n",
            " [2 3 4]\n",
            " [3 4 5]\n",
            " [4 5 6]\n",
            " [5 6 7]\n",
            " [6 7 8]\n",
            " [7 8 9]]\n"
          ]
        }
      ],
      "source": [
        "from numpy.lib import stride_tricks\n",
        "\n",
        "def rolling(a, window):\n",
        "  shape = (a.size - window + 1, window)\n",
        "  strides = (a.itemsize, a.itemsize)\n",
        "  return stride_tricks.as_strided(a, shape=shape, strides=strides)\n",
        "\n",
        "a76 = rolling(np.arange(10), 3)\n",
        "\n",
        "print(a76)"
      ]
    },
    {
      "cell_type": "markdown",
      "metadata": {
        "id": "1lkkHX5af-qo"
      },
      "source": [
        "#### 77. How to negate a boolean, or to change the sign of a float inplace? (★★★) \n",
        "(**hint**: np.logical_not, np.negative)"
      ]
    },
    {
      "cell_type": "code",
      "execution_count": 152,
      "metadata": {
        "id": "EOf8OHMuf-qp",
        "colab": {
          "base_uri": "https://localhost:8080/"
        },
        "outputId": "63865ba2-1ef1-447a-ce74-b93791542c60"
      },
      "outputs": [
        {
          "output_type": "execute_result",
          "data": {
            "text/plain": [
              "array([ 0.09390832, -0.92091171, -0.01642569,  0.05435517,  0.74692898,\n",
              "       -0.77122829,  0.32165627,  0.24290407, -0.99687336, -0.08321621,\n",
              "        0.79153279,  0.66139255,  0.17424041, -0.62916284, -0.16056089,\n",
              "       -0.17682498, -0.78435412, -0.14222644, -0.37211387, -0.70070509,\n",
              "       -0.47941547,  0.86974674, -0.23952514,  0.39205063, -0.67852801,\n",
              "        0.62472759,  0.9572648 , -0.31259367, -0.10399255, -0.36668908,\n",
              "       -0.94678258,  0.13082419, -0.58496161,  0.99513507,  0.31076565,\n",
              "        0.29264024,  0.05760435, -0.43685154, -0.50717737,  0.42647713,\n",
              "        0.8893804 ,  0.6338121 , -0.51599236, -0.68289756, -0.00712691,\n",
              "       -0.12635751, -0.89968427,  0.45520118, -0.91714058,  0.86406373,\n",
              "       -0.9763501 ,  0.48101926, -0.94994709,  0.76752704,  0.55028755,\n",
              "        0.38439019, -0.8277285 , -0.38187824,  0.96574724,  0.60509139,\n",
              "       -0.81547987,  0.90462168, -0.5363627 ,  0.87674452,  0.15970864,\n",
              "        0.48481339,  0.80383599, -0.01975799, -0.40592276, -0.9769223 ,\n",
              "       -0.93013386, -0.67185036, -0.84194059,  0.44065108, -0.0389353 ,\n",
              "       -0.29453191,  0.11643664, -0.76938271,  0.83107205,  0.41952097,\n",
              "       -0.01464798,  0.55804154,  0.40613247,  0.56232702,  0.49964602,\n",
              "        0.48314399,  0.26634037, -0.67130121,  0.87928535, -0.35034316,\n",
              "        0.17940094,  0.54550728,  0.97467873, -0.99993914, -0.14526959,\n",
              "       -0.1784938 , -0.79775471,  0.10327853, -0.19858415,  0.12001517])"
            ]
          },
          "metadata": {},
          "execution_count": 152
        }
      ],
      "source": [
        "Z = np.random.randint(0,2,100)\n",
        "\n",
        "np.logical_not(Z, out=Z)\n",
        "\n",
        "Z = np.random.uniform(-1.0,1.0,100)\n",
        "\n",
        "np.negative(Z, out=Z)"
      ]
    },
    {
      "cell_type": "markdown",
      "metadata": {
        "id": "OPiktsbkf-qq"
      },
      "source": [
        "#### 78. Consider 2 sets of points P0,P1 describing lines (2d) and a point p, how to compute distance from p to each line i  (P0\\[i\\],P1\\[i\\])? (★★★)"
      ]
    },
    {
      "cell_type": "code",
      "execution_count": 153,
      "metadata": {
        "id": "M6Gwr6AGf-qq",
        "colab": {
          "base_uri": "https://localhost:8080/"
        },
        "outputId": "947fda4d-b7ac-4850-9835-d255eb2f843f"
      },
      "outputs": [
        {
          "output_type": "stream",
          "name": "stdout",
          "text": [
            "[12.66497817  3.91659052  4.22776016  4.54761092 12.85209062  0.09431241\n",
            "  8.79621664  6.24603028  4.84163629  2.03652303]\n"
          ]
        }
      ],
      "source": [
        "def distance(P0, P1, p):\n",
        "    T = P1 - P0\n",
        "    L = (T**2).sum(axis=1)\n",
        "    U = -((P0[:,0]-p[...,0])*T[:,0] + (P0[:,1]-p[...,1])*T[:,1]) / L\n",
        "    U = U.reshape(len(U),1)\n",
        "    D = P0 + U*T - p\n",
        "    return np.sqrt((D**2).sum(axis=1))\n",
        "\n",
        "P0 = np.random.uniform(-10,10,(10,2))\n",
        "P1 = np.random.uniform(-10,10,(10,2))\n",
        "p  = np.random.uniform(-10,10,( 1,2))\n",
        "print(distance(P0, P1, p))"
      ]
    },
    {
      "cell_type": "markdown",
      "metadata": {
        "id": "mshKQqMQf-qr"
      },
      "source": [
        "#### 79. Consider 2 sets of points P0,P1 describing lines (2d) and a set of points P, how to compute distance from each point j (P\\[j\\]) to each line i (P0\\[i\\],P1\\[i\\])? (★★★)"
      ]
    },
    {
      "cell_type": "code",
      "execution_count": 154,
      "metadata": {
        "id": "AR0ztfVMf-qt",
        "colab": {
          "base_uri": "https://localhost:8080/"
        },
        "outputId": "8abd0b3b-8254-47ff-e3c4-fec6e4b63787"
      },
      "outputs": [
        {
          "output_type": "stream",
          "name": "stdout",
          "text": [
            "[[1.43511522e+01 1.20130624e+00 3.65785307e+00 1.62594166e+01\n",
            "  1.10971061e+01 2.04917106e-01 2.41034972e-01 8.48750313e+00\n",
            "  2.44535456e+00 6.89275958e+00]\n",
            " [1.30651718e+01 3.06018540e+00 9.37256417e-01 1.16156205e+01\n",
            "  9.24306655e+00 5.32868742e+00 4.68793704e-02 4.48865768e+00\n",
            "  2.14429777e+00 1.53322418e+00]\n",
            " [1.27883428e+01 3.36496904e+00 1.28604126e+00 1.10826013e+01\n",
            "  8.91656153e+00 5.88468711e+00 2.32227363e-01 3.99522244e+00\n",
            "  1.95771201e+00 1.06757457e+00]\n",
            " [1.60935615e+01 8.56938895e+00 6.36666549e+00 1.07100445e+01\n",
            "  1.17666843e+01 8.41635978e+00 3.76176767e+00 4.58290588e+00\n",
            "  5.94351179e+00 3.30622124e+00]\n",
            " [9.69484044e+00 1.21783226e+00 3.16780536e+00 1.12117167e+01\n",
            "  6.21483777e+00 3.81407736e+00 3.91233451e+00 3.27230964e+00\n",
            "  1.71547366e+00 4.83742773e+00]\n",
            " [9.96486742e+00 2.77735782e+00 4.82756611e+00 1.26931594e+01\n",
            "  6.68293206e+00 1.96288323e+00 3.98574804e+00 4.51062758e+00\n",
            "  1.78440077e+00 6.70945032e+00]\n",
            " [6.47048479e+00 6.41758778e+00 5.16562912e+00 1.89124112e+00\n",
            "  1.92763340e+00 1.45264391e+01 5.24837557e+00 4.92516466e+00\n",
            "  3.07654493e+00 5.17525089e+00]\n",
            " [1.21581210e+01 6.86135540e+00 5.00985614e+00 7.73428532e+00\n",
            "  7.84106612e+00 1.00565072e+01 8.97708978e-02 1.19110216e+00\n",
            "  2.09007011e+00 3.14047681e+00]\n",
            " [1.04139838e+01 4.18521672e+00 2.40223068e+00 7.87741117e+00\n",
            "  6.32875960e+00 8.79334840e+00 2.18323351e+00 8.38889834e-01\n",
            "  7.49719365e-04 9.11303621e-01]\n",
            " [6.58173837e+00 3.24036861e+00 4.94299553e+00 9.36921778e+00\n",
            "  3.18908747e+00 4.41529465e+00 7.09428507e+00 9.91916396e-01\n",
            "  4.89718545e+00 5.72270574e+00]]\n"
          ]
        }
      ],
      "source": [
        "\n",
        "P0 = np.random.uniform(-10, 10, (10,2))\n",
        "P1 = np.random.uniform(-10,10,(10,2))\n",
        "p = np.random.uniform(-10, 10, (10,2))\n",
        "print(np.array([distance(P0,P1,p_i) for p_i in p]))"
      ]
    },
    {
      "cell_type": "markdown",
      "metadata": {
        "id": "jaFc4azhf-qt"
      },
      "source": [
        "#### 80. Consider an arbitrary array, write a function that extract a subpart with a fixed shape and centered on a given element (pad with a `fill` value when necessary) (★★★) \n",
        "(**hint**: minimum, maximum)"
      ]
    },
    {
      "cell_type": "code",
      "execution_count": 155,
      "metadata": {
        "id": "41ugw1Rwf-qu",
        "colab": {
          "base_uri": "https://localhost:8080/"
        },
        "outputId": "e2a58e17-d3cc-426a-c1b6-1eb09aaff437"
      },
      "outputs": [
        {
          "output_type": "stream",
          "name": "stdout",
          "text": [
            "[[0 0 9 5 7 8 8 5 8 8]\n",
            " [8 3 5 2 9 4 6 0 1 4]\n",
            " [0 1 5 7 1 2 8 6 7 4]\n",
            " [1 0 3 5 5 4 2 5 4 9]\n",
            " [3 4 4 8 9 8 8 4 2 9]\n",
            " [7 6 5 4 0 9 3 5 4 8]\n",
            " [4 3 1 0 8 3 3 2 5 1]\n",
            " [6 1 7 5 9 4 6 7 0 9]\n",
            " [2 5 5 7 8 1 4 5 3 7]\n",
            " [4 9 9 6 3 6 2 6 4 6]]\n",
            "[[0 0 0 0 0]\n",
            " [0 0 0 9 5]\n",
            " [0 8 3 5 2]\n",
            " [0 0 1 5 7]\n",
            " [0 1 0 3 5]]\n"
          ]
        },
        {
          "output_type": "stream",
          "name": "stderr",
          "text": [
            "/usr/local/lib/python3.7/dist-packages/ipykernel_launcher.py:25: FutureWarning: Using a non-tuple sequence for multidimensional indexing is deprecated; use `arr[tuple(seq)]` instead of `arr[seq]`. In the future this will be interpreted as an array index, `arr[np.array(seq)]`, which will result either in an error or a different result.\n"
          ]
        }
      ],
      "source": [
        "\n",
        "Z = np.random.randint(0,10,(10,10))\n",
        "shape = (5,5)\n",
        "fill  = 0\n",
        "position = (1,1)\n",
        "\n",
        "R = np.ones(shape, dtype=Z.dtype)*fill\n",
        "P  = np.array(list(position)).astype(int)\n",
        "Rs = np.array(list(R.shape)).astype(int)\n",
        "Zs = np.array(list(Z.shape)).astype(int)\n",
        "\n",
        "R_start = np.zeros((len(shape),)).astype(int)\n",
        "R_stop  = np.array(list(shape)).astype(int)\n",
        "Z_start = (P-Rs//2)\n",
        "Z_stop  = (P+Rs//2)+Rs%2\n",
        "\n",
        "R_start = (R_start - np.minimum(Z_start,0)).tolist()\n",
        "Z_start = (np.maximum(Z_start,0)).tolist()\n",
        "R_stop = np.maximum(R_start, (R_stop - np.maximum(Z_stop-Zs,0))).tolist()\n",
        "Z_stop = (np.minimum(Z_stop,Zs)).tolist()\n",
        "\n",
        "r = [slice(start,stop) for start,stop in zip(R_start,R_stop)]\n",
        "z = [slice(start,stop) for start,stop in zip(Z_start,Z_stop)]\n",
        "R[r] = Z[z]\n",
        "print(Z)\n",
        "print(R)"
      ]
    },
    {
      "cell_type": "markdown",
      "metadata": {
        "id": "PlZ8VfcCf-qu"
      },
      "source": [
        "#### 81. Consider an array Z = \\[1,2,3,4,5,6,7,8,9,10,11,12,13,14\\], how to generate an array R = \\[\\[1,2,3,4\\], \\[2,3,4,5\\], \\[3,4,5,6\\], ..., \\[11,12,13,14\\]\\]? (★★★) \n",
        "(**hint**: stride\\_tricks.as\\_strided)"
      ]
    },
    {
      "cell_type": "code",
      "execution_count": 156,
      "metadata": {
        "id": "mUu0ozJDf-qv",
        "colab": {
          "base_uri": "https://localhost:8080/"
        },
        "outputId": "72ac4a15-e733-456c-f4d3-8cd2f8d978c6"
      },
      "outputs": [
        {
          "output_type": "stream",
          "name": "stdout",
          "text": [
            "[[ 1  2  3  4]\n",
            " [ 2  3  4  5]\n",
            " [ 3  4  5  6]\n",
            " [ 4  5  6  7]\n",
            " [ 5  6  7  8]\n",
            " [ 6  7  8  9]\n",
            " [ 7  8  9 10]\n",
            " [ 8  9 10 11]\n",
            " [ 9 10 11 12]\n",
            " [10 11 12 13]\n",
            " [11 12 13 14]]\n"
          ]
        }
      ],
      "source": [
        "Z = np.arange(1,15,dtype=np.uint32)\n",
        "R = stride_tricks.as_strided(Z,(11,4),(4,4))\n",
        "print(R)"
      ]
    },
    {
      "cell_type": "markdown",
      "metadata": {
        "id": "fNihyr0sf-qv"
      },
      "source": [
        "#### 82. Compute a matrix rank (★★★) \n",
        "(**hint**: np.linalg.svd) (suggestion: np.linalg.svd)"
      ]
    },
    {
      "cell_type": "code",
      "execution_count": 157,
      "metadata": {
        "id": "6s2Y7hlLf-qw",
        "colab": {
          "base_uri": "https://localhost:8080/"
        },
        "outputId": "e3e960f3-7f96-448f-8b64-2e4c9128beab"
      },
      "outputs": [
        {
          "output_type": "stream",
          "name": "stdout",
          "text": [
            "10\n"
          ]
        }
      ],
      "source": [
        "Z = np.random.uniform(0,1,(10,10))\n",
        "U, S, V = np.linalg.svd(Z) # Singular Value Decomposition\n",
        "rank = np.sum(S > 1e-10)\n",
        "print(rank)"
      ]
    },
    {
      "cell_type": "markdown",
      "metadata": {
        "id": "5-5FMesdf-qw"
      },
      "source": [
        "#### 83. How to find the most frequent value in an array? \n",
        "(**hint**: np.bincount, argmax)"
      ]
    },
    {
      "cell_type": "code",
      "execution_count": 159,
      "metadata": {
        "id": "B2z8Q4qhf-qx",
        "colab": {
          "base_uri": "https://localhost:8080/"
        },
        "outputId": "9da52fbf-fe5c-4624-8246-2c4cd1a491ab"
      },
      "outputs": [
        {
          "output_type": "stream",
          "name": "stdout",
          "text": [
            "8\n"
          ]
        }
      ],
      "source": [
        "Z = np.random.randint(0,10,50)\n",
        "print(np.bincount(Z).argmax())"
      ]
    },
    {
      "cell_type": "markdown",
      "metadata": {
        "id": "Sj5mr2BRf-q0"
      },
      "source": [
        "#### 84. Extract all the contiguous 3x3 blocks from a random 10x10 matrix (★★★) \n",
        "(**hint**: stride\\_tricks.as\\_strided)"
      ]
    },
    {
      "cell_type": "code",
      "execution_count": null,
      "metadata": {
        "id": "_LFMylZpf-q1"
      },
      "outputs": [],
      "source": [
        "Z = np.random.randint(0,5,(10,10))\n",
        "n = 3\n",
        "i = 1 + (Z.shape[0]-3)\n",
        "j = 1 + (Z.shape[1]-3)\n",
        "C = stride_tricks.as_strided(Z, shape=(i, j, n, n), strides=Z.strides + Z.strides)\n",
        "print(C)"
      ]
    },
    {
      "cell_type": "markdown",
      "metadata": {
        "id": "DvvPbKJ5f-q2"
      },
      "source": [
        "#### 85. Create a 2D array subclass such that Z\\[i,j\\] == Z\\[j,i\\] (★★★) \n",
        "(**hint**: class method)"
      ]
    },
    {
      "cell_type": "code",
      "execution_count": 160,
      "metadata": {
        "id": "kXy4KYWff-q4",
        "colab": {
          "base_uri": "https://localhost:8080/"
        },
        "outputId": "abc2ab5b-b79a-405a-adcd-9f6fcdf1cf84"
      },
      "outputs": [
        {
          "output_type": "stream",
          "name": "stdout",
          "text": [
            "[[ 0  6 10  1 14]\n",
            " [ 6  1  9  5  3]\n",
            " [10  9  5 42 17]\n",
            " [ 1  5 42  2 15]\n",
            " [14  3 17 15  0]]\n"
          ]
        }
      ],
      "source": [
        "class Symetric(np.ndarray):\n",
        "    def __setitem__(self, index, value):\n",
        "        i,j = index\n",
        "        super(Symetric, self).__setitem__((i,j), value)\n",
        "        super(Symetric, self).__setitem__((j,i), value)\n",
        "\n",
        "def symetric(Z):\n",
        "    return np.asarray(Z + Z.T - np.diag(Z.diagonal())).view(Symetric)\n",
        "\n",
        "S = symetric(np.random.randint(0,10,(5,5)))\n",
        "S[2,3] = 42\n",
        "print(S)"
      ]
    },
    {
      "cell_type": "markdown",
      "metadata": {
        "id": "one3jACyf-q5"
      },
      "source": [
        "#### 86. Consider a set of p matrices wich shape (n,n) and a set of p vectors with shape (n,1). How to compute the sum of of the p matrix products at once? (result has shape (n,1)) (★★★) \n",
        "(**hint**: np.tensordot)"
      ]
    },
    {
      "cell_type": "code",
      "execution_count": 161,
      "metadata": {
        "id": "XEi36dcxf-q6",
        "colab": {
          "base_uri": "https://localhost:8080/"
        },
        "outputId": "0ef97826-c1bc-4cd8-a58c-76bbe3b1dee4"
      },
      "outputs": [
        {
          "output_type": "stream",
          "name": "stdout",
          "text": [
            "[[200.]\n",
            " [200.]\n",
            " [200.]\n",
            " [200.]\n",
            " [200.]\n",
            " [200.]\n",
            " [200.]\n",
            " [200.]\n",
            " [200.]\n",
            " [200.]\n",
            " [200.]\n",
            " [200.]\n",
            " [200.]\n",
            " [200.]\n",
            " [200.]\n",
            " [200.]\n",
            " [200.]\n",
            " [200.]\n",
            " [200.]\n",
            " [200.]]\n"
          ]
        }
      ],
      "source": [
        "p, n = 10, 20\n",
        "M = np.ones((p,n,n))\n",
        "V = np.ones((p,n,1))\n",
        "S = np.tensordot(M, V, axes=[[0, 2], [0, 1]])\n",
        "print(S)"
      ]
    },
    {
      "cell_type": "markdown",
      "metadata": {
        "id": "GL-lgMWTf-q7"
      },
      "source": [
        "#### 87. Consider a 16x16 array, how to get the block-sum (block size is 4x4)? (★★★) \n",
        "(**hint**: np.add.reduceat)"
      ]
    },
    {
      "cell_type": "code",
      "execution_count": 162,
      "metadata": {
        "id": "cyV6XkTWf-q8",
        "colab": {
          "base_uri": "https://localhost:8080/"
        },
        "outputId": "c1333275-323d-48da-bc6b-6575d0f061ae"
      },
      "outputs": [
        {
          "output_type": "stream",
          "name": "stdout",
          "text": [
            "[[16. 16. 16. 16.]\n",
            " [16. 16. 16. 16.]\n",
            " [16. 16. 16. 16.]\n",
            " [16. 16. 16. 16.]]\n"
          ]
        }
      ],
      "source": [
        "Z = np.ones((16,16))\n",
        "k = 4\n",
        "S = np.add.reduceat(np.add.reduceat(Z, np.arange(0, Z.shape[0], k), axis=0),\n",
        "                                       np.arange(0, Z.shape[1], k), axis=1)\n",
        "print(S)"
      ]
    },
    {
      "cell_type": "markdown",
      "metadata": {
        "id": "vmYf1AQnf-q9"
      },
      "source": [
        "#### 88. How to implement the Game of Life using numpy arrays? (★★★)"
      ]
    },
    {
      "cell_type": "code",
      "execution_count": 163,
      "metadata": {
        "id": "nlEkyVmGf-q9",
        "colab": {
          "base_uri": "https://localhost:8080/"
        },
        "outputId": "640e5db0-3c92-407c-91aa-4b11c9e2f6fb"
      },
      "outputs": [
        {
          "output_type": "stream",
          "name": "stdout",
          "text": [
            "[[0 0 0 ... 0 0 0]\n",
            " [0 0 0 ... 0 0 0]\n",
            " [0 0 0 ... 0 0 0]\n",
            " ...\n",
            " [0 0 0 ... 0 0 0]\n",
            " [0 0 0 ... 0 0 0]\n",
            " [0 0 0 ... 0 0 0]]\n"
          ]
        }
      ],
      "source": [
        "def iterate(Z):\n",
        "    # Count neighbours\n",
        "    N = (Z[0:-2,0:-2] + Z[0:-2,1:-1] + Z[0:-2,2:] +\n",
        "         Z[1:-1,0:-2]                + Z[1:-1,2:] +\n",
        "         Z[2:  ,0:-2] + Z[2:  ,1:-1] + Z[2:  ,2:])\n",
        "\n",
        "    # Apply rules\n",
        "    birth = (N==3) & (Z[1:-1,1:-1]==0)\n",
        "    survive = ((N==2) | (N==3)) & (Z[1:-1,1:-1]==1)\n",
        "    Z[...] = 0\n",
        "    Z[1:-1,1:-1][birth | survive] = 1\n",
        "    return Z\n",
        "\n",
        "Z = np.random.randint(0,2,(50,50))\n",
        "for i in range(100): Z = iterate(Z)\n",
        "print(Z)"
      ]
    },
    {
      "cell_type": "markdown",
      "metadata": {
        "id": "S4aWzZ_Mf-rB"
      },
      "source": [
        "#### 89. How to get the n largest values of an array (★★★) \n",
        "(**hint**: np.argsort | np.argpartition)"
      ]
    },
    {
      "cell_type": "code",
      "execution_count": 164,
      "metadata": {
        "id": "TxfPrnENf-rB",
        "colab": {
          "base_uri": "https://localhost:8080/"
        },
        "outputId": "9f2b0667-87a5-4c49-aeca-6ab64e7a9d81"
      },
      "outputs": [
        {
          "output_type": "stream",
          "name": "stdout",
          "text": [
            "[9995 9996 9997 9998 9999]\n",
            "[9999 9998 9997 9996 9995]\n"
          ]
        }
      ],
      "source": [
        "Z = np.arange(10000)\n",
        "np.random.shuffle(Z)\n",
        "n = 5\n",
        "\n",
        "# Slow\n",
        "print (Z[np.argsort(Z)[-n:]])\n",
        "\n",
        "# Fast\n",
        "print (Z[np.argpartition(-Z,n)[:n]])"
      ]
    },
    {
      "cell_type": "markdown",
      "metadata": {
        "id": "bva059ONf-rD"
      },
      "source": [
        "#### 90. Given an arbitrary number of vectors, build the cartesian product (every combinations of every item) (★★★) \n",
        "(**hint**: np.indices)"
      ]
    },
    {
      "cell_type": "code",
      "execution_count": 165,
      "metadata": {
        "scrolled": true,
        "id": "6Plybk7Mf-rE",
        "colab": {
          "base_uri": "https://localhost:8080/"
        },
        "outputId": "99ef645f-f8c5-4d69-a308-9e745d6be2b2"
      },
      "outputs": [
        {
          "output_type": "stream",
          "name": "stdout",
          "text": [
            "[[1 4 6]\n",
            " [1 4 7]\n",
            " [1 5 6]\n",
            " [1 5 7]\n",
            " [2 4 6]\n",
            " [2 4 7]\n",
            " [2 5 6]\n",
            " [2 5 7]\n",
            " [3 4 6]\n",
            " [3 4 7]\n",
            " [3 5 6]\n",
            " [3 5 7]]\n"
          ]
        }
      ],
      "source": [
        "def cartesian(arrays):\n",
        "    arrays = [np.asarray(a) for a in arrays]\n",
        "    shape = (len(x) for x in arrays)\n",
        "\n",
        "    ix = np.indices(shape, dtype=int)\n",
        "    ix = ix.reshape(len(arrays), -1).T\n",
        "\n",
        "    for n, arr in enumerate(arrays):\n",
        "        ix[:, n] = arrays[n][ix[:, n]]\n",
        "\n",
        "    return ix\n",
        "\n",
        "print (cartesian(([1, 2, 3], [4, 5], [6, 7])))"
      ]
    },
    {
      "cell_type": "markdown",
      "metadata": {
        "id": "rVFHfKhkf-rE"
      },
      "source": [
        "#### 91. How to create a record array from a regular array? (★★★) \n",
        "(**hint**: np.core.records.fromarrays)"
      ]
    },
    {
      "cell_type": "code",
      "execution_count": 166,
      "metadata": {
        "id": "Jbs3SFwCf-rF",
        "colab": {
          "base_uri": "https://localhost:8080/"
        },
        "outputId": "cec1d57d-4802-43f4-f7c0-cd6cc064b319"
      },
      "outputs": [
        {
          "output_type": "stream",
          "name": "stdout",
          "text": [
            "[(b'Hello', 2.5, 3) (b'World', 3.6, 2)]\n"
          ]
        }
      ],
      "source": [
        "Z = np.array([(\"Hello\", 2.5, 3),\n",
        "              (\"World\", 3.6, 2)])\n",
        "R = np.core.records.fromarrays(Z.T, \n",
        "                               names='col1, col2, col3',\n",
        "                               formats = 'S8, f8, i8')\n",
        "print(R)"
      ]
    },
    {
      "cell_type": "markdown",
      "metadata": {
        "id": "lHZ4zD1Cf-rF"
      },
      "source": [
        "#### 92. Consider a large vector Z, compute Z to the power of 3 using 3 different methods (★★★) \n",
        "(**hint**: np.power, \\*, np.einsum)"
      ]
    },
    {
      "cell_type": "code",
      "execution_count": 186,
      "metadata": {
        "id": "ud6ZmPZrf-rG",
        "colab": {
          "base_uri": "https://localhost:8080/"
        },
        "outputId": "9b3a9253-ebc0-4005-d70a-8e82dfd4665c"
      },
      "outputs": [
        {
          "output_type": "stream",
          "name": "stdout",
          "text": [
            "np.power : : \n",
            " [0.3016295  0.05935103 0.00118818 ... 0.44721744 0.66652081 0.3506451 ]\n",
            "1 loop, best of 5: 3.74 s per loop\n",
            "np.* : : \n",
            " [0.3016295  0.05935103 0.00118818 ... 0.44721744 0.66652081 0.3506451 ]\n",
            "10 loops, best of 5: 141 ms per loop\n",
            "np.eisum : : \n",
            " [0.3016295  0.05935103 0.00118818 ... 0.44721744 0.66652081 0.3506451 ]\n",
            "10 loops, best of 5: 124 ms per loop\n"
          ]
        }
      ],
      "source": [
        "x = np.random.rand(int(5e7))\n",
        "\n",
        "print(\"np.power : : \\n\",np.power(x,3))\n",
        "%timeit np.power(x,3)\n",
        "print(\"np.* : : \\n\",x*x*x)\n",
        "%timeit x*x*x\n",
        "print(\"np.eisum : : \\n\",np.einsum('i,i,i->i',x,x,x))\n",
        "%timeit np.einsum('i,i,i->i',x,x,x)"
      ]
    },
    {
      "cell_type": "markdown",
      "metadata": {
        "id": "R9GZkUslf-rG"
      },
      "source": [
        "#### 93. Consider two arrays A and B of shape (8,3) and (2,2). How to find rows of A that contain elements of each row of B regardless of the order of the elements in B? (★★★) \n",
        "(**hint**: np.where)"
      ]
    },
    {
      "cell_type": "code",
      "execution_count": 168,
      "metadata": {
        "id": "1WKeUbLdf-rH",
        "colab": {
          "base_uri": "https://localhost:8080/"
        },
        "outputId": "80708e41-ec9a-4b1b-80ab-2eabe9f8402e"
      },
      "outputs": [
        {
          "output_type": "stream",
          "name": "stdout",
          "text": [
            "[0 3 7]\n"
          ]
        }
      ],
      "source": [
        "A = np.random.randint(0,5,(8,3))\n",
        "B = np.random.randint(0,5,(2,2))\n",
        "\n",
        "C = (A[..., np.newaxis, np.newaxis] == B)\n",
        "rows = np.where(C.any((3,1)).all(1))[0]\n",
        "print(rows)"
      ]
    },
    {
      "cell_type": "markdown",
      "metadata": {
        "id": "AYBrLNc_f-rI"
      },
      "source": [
        "#### 94. Considering a 10x3 matrix, extract rows with unequal values (e.g. \\[2,2,3\\]) (★★★)"
      ]
    },
    {
      "cell_type": "code",
      "execution_count": 169,
      "metadata": {
        "id": "laE_hfUTf-rJ",
        "colab": {
          "base_uri": "https://localhost:8080/"
        },
        "outputId": "131738fd-73fe-471b-f202-dd64699f4db1"
      },
      "outputs": [
        {
          "output_type": "stream",
          "name": "stdout",
          "text": [
            "[[2 0 4]\n",
            " [0 0 1]\n",
            " [4 4 0]\n",
            " [2 0 1]\n",
            " [4 2 1]\n",
            " [3 4 1]\n",
            " [1 0 4]\n",
            " [2 1 3]\n",
            " [1 4 1]\n",
            " [1 1 2]]\n",
            "solution for arrays of all dtypes (including string arrays and record arrays)\n",
            "[[2 0 4]\n",
            " [0 0 1]\n",
            " [4 4 0]\n",
            " [2 0 1]\n",
            " [4 2 1]\n",
            " [3 4 1]\n",
            " [1 0 4]\n",
            " [2 1 3]\n",
            " [1 4 1]\n",
            " [1 1 2]]\n",
            "soluiton for numerical arrays only, will work for any number of columns in Z\n",
            "[[2 0 4]\n",
            " [0 0 1]\n",
            " [4 4 0]\n",
            " [2 0 1]\n",
            " [4 2 1]\n",
            " [3 4 1]\n",
            " [1 0 4]\n",
            " [2 1 3]\n",
            " [1 4 1]\n",
            " [1 1 2]]\n"
          ]
        }
      ],
      "source": [
        "Z = np.random.randint(0,5,(10,3))\n",
        "print(Z)\n",
        "print(\"solution for arrays of all dtypes (including string arrays and record arrays)\")\n",
        "E = np.all(Z[:,1:] == Z[:,:-1], axis=1)\n",
        "U = Z[~E]\n",
        "print(U)\n",
        "print(\"soluiton for numerical arrays only, will work for any number of columns in Z\")\n",
        "U = Z[Z.max(axis=1) != Z.min(axis=1),:]\n",
        "print(U)"
      ]
    },
    {
      "cell_type": "markdown",
      "metadata": {
        "id": "BlGgJbuaf-rJ"
      },
      "source": [
        "#### 95. Convert a vector of ints into a matrix binary representation (★★★) \n",
        "(**hint**: np.unpackbits)"
      ]
    },
    {
      "cell_type": "code",
      "execution_count": 171,
      "metadata": {
        "id": "HN6jSUrxf-rK",
        "colab": {
          "base_uri": "https://localhost:8080/"
        },
        "outputId": "eb6988ed-4d9d-45a3-95cd-337053776ee3"
      },
      "outputs": [
        {
          "output_type": "stream",
          "name": "stdout",
          "text": [
            "[[0 0 0 0 0 0 0 0]\n",
            " [0 0 0 0 0 0 0 1]\n",
            " [0 0 0 0 0 0 1 0]\n",
            " [0 0 0 0 0 0 1 1]\n",
            " [0 0 0 0 1 1 1 1]\n",
            " [0 0 0 1 0 0 0 0]\n",
            " [0 0 1 0 0 0 0 0]\n",
            " [0 1 0 0 0 0 0 0]\n",
            " [1 0 0 0 0 0 0 0]]\n",
            "\n",
            " np.upackbits method : :\n",
            "\n",
            "[[0 0 0 0 0 0 0 0]\n",
            " [0 0 0 0 0 0 0 1]\n",
            " [0 0 0 0 0 0 1 0]\n",
            " [0 0 0 0 0 0 1 1]\n",
            " [0 0 0 0 1 1 1 1]\n",
            " [0 0 0 1 0 0 0 0]\n",
            " [0 0 1 0 0 0 0 0]\n",
            " [0 1 0 0 0 0 0 0]\n",
            " [1 0 0 0 0 0 0 0]]\n"
          ]
        }
      ],
      "source": [
        "I = np.array([0, 1, 2, 3, 15, 16, 32, 64, 128])\n",
        "B = ((I.reshape(-1,1) & (2**np.arange(8))) != 0).astype(int)\n",
        "print(B[:,::-1])\n",
        "print(\"\\n np.upackbits method : :\\n\")\n",
        "\n",
        "I = np.array([0, 1, 2, 3, 15, 16, 32, 64, 128], dtype=np.uint8)\n",
        "print(np.unpackbits(I[:, np.newaxis], axis=1))"
      ]
    },
    {
      "cell_type": "markdown",
      "metadata": {
        "id": "-9-rUcZIf-rK"
      },
      "source": [
        "#### 96. Given a two dimensional array, how to extract unique rows? (★★★) \n",
        "(**hint**: np.ascontiguousarray)"
      ]
    },
    {
      "cell_type": "code",
      "execution_count": 172,
      "metadata": {
        "id": "NmsBUsSlf-rL",
        "colab": {
          "base_uri": "https://localhost:8080/"
        },
        "outputId": "a51b1cab-76b7-49b5-8cce-0abe86796d36"
      },
      "outputs": [
        {
          "output_type": "stream",
          "name": "stdout",
          "text": [
            "[[0 0 0]\n",
            " [0 1 0]\n",
            " [0 1 1]\n",
            " [1 1 0]\n",
            " [1 1 1]]\n"
          ]
        }
      ],
      "source": [
        "Z = np.random.randint(0,2,(6,3))\n",
        "T = np.ascontiguousarray(Z).view(np.dtype((np.void, Z.dtype.itemsize * Z.shape[1])))\n",
        "_, idx = np.unique(T, return_index=True)\n",
        "uZ = Z[idx]\n",
        "print(uZ)"
      ]
    },
    {
      "cell_type": "markdown",
      "metadata": {
        "id": "bXo1MC6Lf-rL"
      },
      "source": [
        "#### 97. Considering 2 vectors A & B, write the einsum equivalent of inner, outer, sum, and mul function (★★★) \n",
        "(**hint**: np.einsum)"
      ]
    },
    {
      "cell_type": "code",
      "execution_count": 174,
      "metadata": {
        "id": "g5IfRzN7f-rL",
        "colab": {
          "base_uri": "https://localhost:8080/"
        },
        "outputId": "283fb983-cd58-460c-a38b-d82aaa992bd3"
      },
      "outputs": [
        {
          "output_type": "stream",
          "name": "stdout",
          "text": [
            "sum : : \n",
            " 4.029953879964494\n",
            "multiplicati : : \n",
            "  [0.08304074 0.5068726  0.15813906 0.46629456 0.03373726 0.19175496\n",
            " 0.19663527 0.24424575 0.18297761 0.02328954]\n",
            "inner : : \n",
            " 2.0869873603647684\n",
            "outer : : \n",
            " [[0.08304074 0.42984138 0.11913408 0.37014472 0.14197017 0.23698036\n",
            "  0.22770405 0.19924302 0.31535125 0.30778775]\n",
            " [0.09792234 0.5068726  0.14048391 0.43647779 0.16741243 0.27944925\n",
            "  0.26851055 0.23494906 0.37186486 0.36294592]\n",
            " [0.11022862 0.57057322 0.15813906 0.49133162 0.18845179 0.3145687\n",
            "  0.3022553  0.26447601 0.41859854 0.40855872]\n",
            " [0.10461164 0.5414982  0.15008068 0.46629456 0.17884874 0.29853905\n",
            "  0.28685311 0.25099896 0.39726778 0.38773957]\n",
            " [0.01973349 0.1021459  0.02831058 0.08795981 0.03373726 0.05631513\n",
            "  0.05411074 0.04734737 0.07493889 0.07314153]\n",
            " [0.06719322 0.34781034 0.0963985  0.2995062  0.11487654 0.19175496\n",
            "  0.18424895 0.16121943 0.25516953 0.24904945]\n",
            " [0.07171035 0.37119223 0.10287898 0.3196408  0.12259923 0.20464588\n",
            "  0.19663527 0.17205757 0.27232355 0.26579205]\n",
            " [0.10179703 0.52692902 0.14604271 0.45374876 0.17403676 0.29050676\n",
            "  0.27913523 0.24424575 0.38657916 0.37730731]\n",
            " [0.04818308 0.24940871 0.06912568 0.21477066 0.08237596 0.13750413\n",
            "  0.1321217  0.11560763 0.18297761 0.17858901]\n",
            " [0.00628349 0.03252504 0.00901458 0.02800794 0.01074253 0.01793172\n",
            "  0.01722981 0.01507623 0.02386185 0.02328954]]\n"
          ]
        }
      ],
      "source": [
        "A = np.random.uniform(0,1,10)\n",
        "B = np.random.uniform(0,1,10)\n",
        "\n",
        "print(\"sum : : \\n\",np.einsum('i->', A))       # np.sum(A)\n",
        "print(\"multiplicati : : \\n \",np.einsum('i,i->i', A, B))   # A * B\n",
        "print(\"inner : : \\n\", np.einsum('i,i', A, B))    # np.inner(A, B)\n",
        "print(\"outer : : \\n\",np.einsum('i,j->ij', A, B))    # np.outer(A, B)"
      ]
    },
    {
      "cell_type": "markdown",
      "metadata": {
        "id": "VJKLJqQXf-rM"
      },
      "source": [
        "#### 98. Considering a path described by two vectors (X,Y), how to sample it using equidistant samples (★★★)? \n",
        "(**hint**: np.cumsum, np.interp)"
      ]
    },
    {
      "cell_type": "code",
      "execution_count": 182,
      "metadata": {
        "collapsed": true,
        "id": "PXOPXM8Ef-rM",
        "colab": {
          "base_uri": "https://localhost:8080/"
        },
        "outputId": "e6eebf90-051f-483c-efae-2c7c0c1997be"
      },
      "outputs": [
        {
          "output_type": "stream",
          "name": "stdout",
          "text": [
            "\n",
            "r_int::\n",
            " [  0.           2.48788858   4.97577716   7.46366574   9.95155432\n",
            "  12.43944289  14.92733147  17.41522005  19.90310863  22.39099721\n",
            "  24.87888579  27.36677437  29.85466295  32.34255152  34.8304401\n",
            "  37.31832868  39.80621726  42.29410584  44.78199442  47.269883\n",
            "  49.75777158  52.24566016  54.73354873  57.22143731  59.70932589\n",
            "  62.19721447  64.68510305  67.17299163  69.66088021  72.14876879\n",
            "  74.63665736  77.12454594  79.61243452  82.1003231   84.58821168\n",
            "  87.07610026  89.56398884  92.05187742  94.539766    97.02765457\n",
            "  99.51554315 102.00343173 104.49132031 106.97920889 109.46709747\n",
            " 111.95498605 114.44287463 116.9307632  119.41865178 121.90654036\n",
            " 124.39442894 126.88231752 129.3702061  131.85809468 134.34598326\n",
            " 136.83387184 139.32176041 141.80964899 144.29753757 146.78542615\n",
            " 149.27331473 151.76120331 154.24909189 156.73698047 159.22486904\n",
            " 161.71275762 164.2006462  166.68853478 169.17642336 171.66431194\n",
            " 174.15220052 176.6400891  179.12797768 181.61586625 184.10375483\n",
            " 186.59164341 189.07953199 191.56742057 194.05530915 196.54319773\n",
            " 199.03108631 201.51897488 204.00686346 206.49475204 208.98264062\n",
            " 211.4705292  213.95841778 216.44630636 218.93419494 221.42208352\n",
            " 223.90997209 226.39786067 228.88574925 231.37363783 233.86152641\n",
            " 236.34941499 238.83730357 241.32519215 243.81308072 246.3009693\n",
            " 248.78885788 251.27674646 253.76463504 256.25252362 258.7404122\n",
            " 261.22830078 263.71618936 266.20407793 268.69196651 271.17985509\n",
            " 273.66774367 276.15563225 278.64352083 281.13140941 283.61929799\n",
            " 286.10718656 288.59507514 291.08296372 293.5708523  296.05874088\n",
            " 298.54662946 301.03451804 303.52240662 306.0102952  308.49818377\n",
            " 310.98607235 313.47396093 315.96184951 318.44973809 320.93762667\n",
            " 323.42551525 325.91340383 328.4012924  330.88918098 333.37706956\n",
            " 335.86495814 338.35284672 340.8407353  343.32862388 345.81651246\n",
            " 348.30440104 350.79228961 353.28017819 355.76806677 358.25595535\n",
            " 360.74384393 363.23173251 365.71962109 368.20750967 370.69539824\n",
            " 373.18328682 375.6711754  378.15906398 380.64695256 383.13484114\n",
            " 385.62272972 388.1106183  390.59850688 393.08639545 395.57428403\n",
            " 398.06217261 400.55006119 403.03794977 405.52583835 408.01372693\n",
            " 410.50161551 412.98950408 415.47739266 417.96528124 420.45316982\n",
            " 422.9410584  425.42894698 427.91683556 430.40472414 432.89261272\n",
            " 435.38050129 437.86838987 440.35627845 442.84416703 445.33205561\n",
            " 447.81994419 450.30783277 452.79572135 455.28360992 457.7714985\n",
            " 460.25938708 462.74727566 465.23516424 467.72305282 470.2109414\n",
            " 472.69882998 475.18671856 477.67460713 480.16249571 482.65038429\n",
            " 485.13827287 487.62616145 490.11405003 492.60193861 495.08982719]\n",
            "\n",
            "x_int::\n",
            " [ 0.00000000e+00 -3.73131229e-01 -2.59817608e+00 -3.26212050e+00\n",
            " -2.18442687e+00 -2.98929946e-02  2.42923642e+00  4.54913599e+00\n",
            "  5.92318348e+00  6.35117933e+00  5.82369277e+00  4.46259540e+00\n",
            "  2.47320794e+00  1.09577220e-01 -2.36575300e+00 -4.71261671e+00\n",
            " -6.72701769e+00 -8.25541575e+00 -9.18486120e+00 -9.46381505e+00\n",
            " -9.11085788e+00 -8.12875279e+00 -6.63306046e+00 -4.69271059e+00\n",
            " -2.44736165e+00 -2.05444585e-02  2.46101146e+00  4.86841760e+00\n",
            "  7.08937968e+00  9.02539126e+00  1.05948609e+01  1.17357250e+01\n",
            "  1.24068974e+01  1.25885805e+01  1.22815267e+01  1.15053927e+01\n",
            "  1.02963689e+01  8.70429550e+00  6.78948686e+00  4.61716636e+00\n",
            "  2.25853448e+00 -1.98731680e-01 -2.68040566e+00 -5.11543300e+00\n",
            " -7.41973991e+00 -9.53891040e+00 -1.14237629e+01 -1.29919305e+01\n",
            " -1.42355069e+01 -1.51243232e+01 -1.56061571e+01 -1.57219415e+01\n",
            " -1.54217066e+01 -1.47579136e+01 -1.37255236e+01 -1.23634834e+01\n",
            " -1.07024632e+01 -8.78327367e+00 -6.65029558e+00 -4.35514246e+00\n",
            " -1.94290275e+00  5.28038914e-01  3.00985904e+00  5.45450275e+00\n",
            "  7.80093594e+00  1.00179639e+01  1.20595602e+01  1.38732623e+01\n",
            "  1.54564938e+01  1.67497894e+01  1.77435802e+01  1.84439878e+01\n",
            "  1.87990820e+01  1.88271003e+01  1.85472755e+01  1.79378850e+01\n",
            "  1.70105456e+01  1.58085777e+01  1.43501808e+01  1.26222364e+01\n",
            "  1.06905445e+01  8.58498641e+00  6.33562529e+00  3.96179025e+00\n",
            "  1.51802643e+00 -9.61699044e-01 -3.44349301e+00 -5.88951759e+00\n",
            " -8.26006582e+00 -1.05270865e+01 -1.26610269e+01 -1.46343020e+01\n",
            " -1.64206033e+01 -1.79708499e+01 -1.92894561e+01 -2.03605967e+01\n",
            " -2.11716587e+01 -2.17133504e+01 -2.19797677e+01 -2.19626531e+01\n",
            " -2.16476737e+01 -2.10622561e+01 -2.02145809e+01 -1.91158467e+01\n",
            " -1.77800930e+01 -1.62239930e+01 -1.44666197e+01 -1.25291882e+01\n",
            " -1.04347777e+01 -8.20773276e+00 -5.86978851e+00 -3.45563299e+00\n",
            " -9.92556869e-01  1.49191203e+00  3.97031733e+00  6.41557503e+00\n",
            "  8.80126359e+00  1.11019001e+01  1.32931995e+01  1.53523150e+01\n",
            "  1.72580567e+01  1.89910866e+01  2.05340895e+01  2.18719167e+01\n",
            "  2.29917039e+01  2.38829603e+01  2.45376309e+01  2.49501314e+01\n",
            "  2.51173551e+01  2.50386548e+01  2.47157984e+01  2.41529019e+01\n",
            "  2.33563391e+01  2.23346314e+01  2.10983193e+01  1.96598169e+01\n",
            "  1.80332532e+01  1.62343003e+01  1.42799934e+01  1.21885425e+01\n",
            "  9.97914013e+00  7.67176574e+00  5.28699023e+00  2.84441658e+00\n",
            "  3.68190102e-01 -2.11846865e+00 -4.59426061e+00 -7.03829202e+00\n",
            " -9.43024209e+00 -1.17505186e+01 -1.39803999e+01 -1.61021634e+01\n",
            " -1.80991985e+01 -1.99561058e+01 -2.16587804e+01 -2.31850397e+01\n",
            " -2.45166960e+01 -2.56568097e+01 -2.65976904e+01 -2.73332424e+01\n",
            " -2.78589555e+01 -2.81718833e+01 -2.82706110e+01 -2.81552119e+01\n",
            " -2.78066635e+01 -2.72341677e+01 -2.64578863e+01 -2.54844118e+01\n",
            " -2.43214986e+01 -2.29779690e+01 -2.14636172e+01 -1.97837046e+01\n",
            " -1.79341987e+01 -1.59545785e+01 -1.38585628e+01 -1.16602783e+01\n",
            " -9.37416511e+00 -7.01488958e+00 -4.59184632e+00 -2.12995331e+00\n",
            "  3.50691071e-01  2.83498918e+00  5.30813450e+00  7.75565814e+00\n",
            "  1.01522531e+01  1.24813227e+01  1.47337756e+01  1.68973642e+01\n",
            "  1.89604991e+01  2.09071945e+01  2.26943693e+01  2.43420179e+01\n",
            "  2.58422998e+01  2.71881423e+01  2.83731992e+01  2.93376609e+01\n",
            "  3.01222558e+01  3.07280750e+01  3.11531219e+01  3.13960177e+01]\n",
            "\n",
            "y_int::\n",
            " [ 0.00000000e+00  1.74026724e+00  9.81816584e-01 -1.34251287e+00\n",
            " -3.53191891e+00 -4.70449474e+00 -4.59573427e+00 -3.33831870e+00\n",
            " -1.28956083e+00  1.14234685e+00  3.55645601e+00  5.62188218e+00\n",
            "  7.09389488e+00  7.82951803e+00  7.78700678e+00  6.99685666e+00\n",
            "  5.55535240e+00  3.60417006e+00  1.30506373e+00 -1.15819722e+00\n",
            " -3.61328132e+00 -5.89130465e+00 -7.87065053e+00 -9.41689057e+00\n",
            " -1.04714836e+01 -1.09903787e+01 -1.09354306e+01 -1.03330912e+01\n",
            " -9.22690166e+00 -7.67489830e+00 -5.75257980e+00 -3.54832201e+00\n",
            " -1.15854355e+00  1.31709956e+00  3.78023622e+00  6.13780326e+00\n",
            "  8.30540149e+00  1.02098724e+01  1.17910419e+01  1.29972950e+01\n",
            "  1.37774249e+01  1.41319792e+01  1.40585758e+01  1.35636816e+01\n",
            "  1.26345244e+01  1.13409083e+01  9.72216360e+00  7.79464305e+00\n",
            "  5.64544223e+00  3.32503222e+00  8.88107041e-01 -1.59329248e+00\n",
            " -4.05992507e+00 -6.45313746e+00 -8.71327144e+00 -1.07900854e+01\n",
            " -1.26380653e+01 -1.42147006e+01 -1.54892299e+01 -1.64390858e+01\n",
            " -1.70351433e+01 -1.72938948e+01 -1.71685631e+01 -1.67219979e+01\n",
            " -1.59044166e+01 -1.47824153e+01 -1.33665280e+01 -1.16678134e+01\n",
            " -9.75246391e+00 -7.63091465e+00 -5.35345831e+00 -2.96905840e+00\n",
            " -5.09631905e-01  1.97507060e+00  4.44430515e+00  6.85344809e+00\n",
            "  9.15903461e+00  1.13337844e+01  1.33467125e+01  1.51336120e+01\n",
            "  1.66966787e+01  1.80162922e+01  1.90746708e+01  1.98127969e+01\n",
            "  2.02634499e+01  2.04221761e+01  2.02877631e+01  1.98449702e+01\n",
            "  1.90974465e+01  1.80799531e+01  1.68069397e+01  1.52959771e+01\n",
            "  1.35665801e+01  1.16227312e+01  9.51601869e+00  7.27388893e+00\n",
            "  4.92519240e+00  2.49981337e+00  2.82932820e-02 -2.45817963e+00\n",
            " -4.92460367e+00 -7.34030894e+00 -9.67635928e+00 -1.19050601e+01\n",
            " -1.40002645e+01 -1.59376556e+01 -1.76950019e+01 -1.92523833e+01\n",
            " -2.05923861e+01 -2.16995543e+01 -2.25478860e+01 -2.31432552e+01\n",
            " -2.34800725e+01 -2.35556687e+01 -2.33702741e+01 -2.29269662e+01\n",
            " -2.22315865e+01 -2.12926288e+01 -2.01211000e+01 -1.87303570e+01\n",
            " -1.71359212e+01 -1.53552740e+01 -1.34076356e+01 -1.13137308e+01\n",
            " -9.09554383e+00 -6.77606668e+00 -4.37904252e+00 -1.92870828e+00\n",
            "  5.50461201e-01  3.03400451e+00  5.49771780e+00  7.91788934e+00\n",
            "  1.02715222e+01  1.25365431e+01  1.46919953e+01  1.67182148e+01\n",
            "  1.85969872e+01  2.03116866e+01  2.18473923e+01  2.31909872e+01\n",
            "  2.43312337e+01  2.52588296e+01  2.59664444e+01  2.64391214e+01\n",
            "  2.66748505e+01  2.66796333e+01  2.64545680e+01  2.60026765e+01\n",
            "  2.53288265e+01  2.44396400e+01  2.33433894e+01  2.20498837e+01\n",
            "  2.05703459e+01  1.89172843e+01  1.71043584e+01  1.51396391e+01\n",
            "  1.30387952e+01  1.08294252e+01  8.52903617e+00  6.15551380e+00\n",
            "  3.72697869e+00  1.26164946e+00 -1.22228693e+00 -3.70679651e+00\n",
            " -6.17014862e+00 -8.59028675e+00 -1.09516293e+01 -1.32379536e+01\n",
            " -1.54338179e+01 -1.75246263e+01 -1.94966815e+01 -2.13317519e+01\n",
            " -2.29952001e+01 -2.44987532e+01 -2.58335652e+01 -2.69919481e+01\n",
            " -2.79673583e+01 -2.87543764e+01 -2.93186910e+01 -2.96679958e+01\n",
            " -2.98181354e+01 -2.97693731e+01 -2.95229769e+01 -2.90811595e+01\n",
            " -2.84133854e+01 -2.75430665e+01 -2.64934034e+01 -2.52713717e+01\n",
            " -2.38845608e+01 -2.23353782e+01 -2.06051319e+01 -1.87442619e+01\n",
            " -1.67635423e+01 -1.46739620e+01 -1.24866789e+01 -1.01933401e+01\n",
            " -7.83474328e+00 -5.42495146e+00 -2.97607515e+00 -5.00072086e-01]\n"
          ]
        }
      ],
      "source": [
        "phi = np.arange(0, 10*np.pi, 0.1)\n",
        "a = 1\n",
        "x = a*phi*np.cos(phi)\n",
        "y = a*phi*np.sin(phi)\n",
        "\n",
        "dr = (np.diff(x)**2 + np.diff(y)**2)**.5 # segment lengths\n",
        "r = np.zeros_like(x)\n",
        "r[1:] = np.cumsum(dr)                # integrate path\n",
        "r_int = np.linspace(0, r.max(), 200) # regular spaced path\n",
        "x_int = np.interp(r_int, r, x)       # integrate path\n",
        "y_int = np.interp(r_int, r, y)\n",
        "print(\"\\nr_int::\\n\",r_int)\n",
        "print(\"\\nx_int::\\n\",x_int)\n",
        "print(\"\\ny_int::\\n\",y_int)"
      ]
    },
    {
      "cell_type": "markdown",
      "metadata": {
        "id": "84VOLQGTf-rM"
      },
      "source": [
        "#### 99. Given an integer n and a 2D array X, select from X the rows which can be interpreted as draws from a multinomial distribution with n degrees, i.e., the rows which only contain integers and which sum to n. (★★★) \n",
        "(**hint**: np.logical\\_and.reduce, np.mod)"
      ]
    },
    {
      "cell_type": "code",
      "execution_count": 177,
      "metadata": {
        "id": "8B6gSxu-f-rN",
        "colab": {
          "base_uri": "https://localhost:8080/"
        },
        "outputId": "201ce4b0-106d-4d24-c9b7-14821f811546"
      },
      "outputs": [
        {
          "output_type": "stream",
          "name": "stdout",
          "text": [
            "[[2. 0. 1. 1.]]\n"
          ]
        }
      ],
      "source": [
        "X = np.asarray([[1.0, 0.0, 3.0, 8.0],\n",
        "                [2.0, 0.0, 1.0, 1.0],\n",
        "                [1.5, 2.5, 1.0, 0.0]])\n",
        "n = 4\n",
        "M = np.logical_and.reduce(np.mod(X, 1) == 0, axis=-1)\n",
        "M &= (X.sum(axis=-1) == n)\n",
        "print(X[M])"
      ]
    },
    {
      "cell_type": "markdown",
      "metadata": {
        "id": "oH1fNeJyf-rN"
      },
      "source": [
        "#### 100. Compute bootstrapped 95% confidence intervals for the mean of a 1D array X (i.e., resample the elements of an array with replacement N times, compute the mean of each sample, and then compute percentiles over the means). (★★★) \n",
        "(**hint**: np.percentile)"
      ]
    },
    {
      "cell_type": "code",
      "execution_count": 180,
      "metadata": {
        "id": "-OQmVvl1f-rN",
        "colab": {
          "base_uri": "https://localhost:8080/"
        },
        "outputId": "747a6b08-0e90-43c6-ed7a-2c95168f85dd"
      },
      "outputs": [
        {
          "output_type": "stream",
          "name": "stdout",
          "text": [
            "percentile ::\n",
            " [0.00869433 0.34365277]\n"
          ]
        }
      ],
      "source": [
        "X = np.random.randn(100) # random 1D array\n",
        "N = 1000 # number of bootstrap samples\n",
        "idx = np.random.randint(0, X.size, (N, X.size))\n",
        "means = X[idx].mean(axis=1)\n",
        "confint = np.percentile(means, [2.5, 97.5])\n",
        "print(\"percentile ::\\n\",confint)"
      ]
    },
    {
      "cell_type": "code",
      "source": [
        ""
      ],
      "metadata": {
        "id": "AWl9iOsCMhlm"
      },
      "execution_count": null,
      "outputs": []
    }
  ],
  "metadata": {
    "kernelspec": {
      "display_name": "Python 3",
      "language": "python",
      "name": "python3"
    },
    "language_info": {
      "codemirror_mode": {
        "name": "ipython",
        "version": 3
      },
      "file_extension": ".py",
      "mimetype": "text/x-python",
      "name": "python",
      "nbconvert_exporter": "python",
      "pygments_lexer": "ipython3",
      "version": "3.8.3"
    },
    "colab": {
      "name": "Numpy_tasks_1.ipynb",
      "provenance": [],
      "collapsed_sections": [],
      "include_colab_link": true
    }
  },
  "nbformat": 4,
  "nbformat_minor": 0
}